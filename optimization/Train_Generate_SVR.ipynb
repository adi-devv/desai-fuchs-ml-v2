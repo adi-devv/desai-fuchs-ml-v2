{
 "cells": [
  {
   "cell_type": "code",
   "execution_count": 1,
   "metadata": {},
   "outputs": [
    {
     "name": "stdout",
     "output_type": "stream",
     "text": [
      "CUDA is available: using GPU\n"
     ]
    }
   ],
   "source": [
    "device = \"GPU\" # CPU or GPU (must set manually, don't know how to do this automatically in rapids 22.10)\n",
    "if device == \"GPU\":\n",
    "    print(\"CUDA is available: using GPU\")\n",
    "    import cudf as pd\n",
    "    import cupy as np\n",
    "    import cuml\n",
    "    from cuml.svm import SVR\n",
    "    from cuml.model_selection import train_test_split\n",
    "    from cuml.preprocessing import StandardScaler\n",
    "    from cuml.metrics import mean_squared_error as mse\n",
    "    def mape(y_true, y_pred):\n",
    "        return np.mean(np.abs(y_true-y_pred)/y_true)\n",
    "    import numpy\n",
    "else:\n",
    "    print(\"CUDA not available: using CPU\")\n",
    "    import numpy as np\n",
    "    import pandas as pd\n",
    "    from sklearn.svm import SVR\n",
    "    from sklearn.metrics import mean_squared_error as mse, r2_score, mean_absolute_percentage_error as mape\n",
    "    from sklearn.model_selection import train_test_split\n",
    "    from sklearn.preprocessing import StandardScaler\n",
    "from tqdm.auto import tqdm, trange\n",
    "import itertools\n",
    "import time\n",
    "from sklearn.model_selection import GridSearchCV\n",
    "import matplotlib.pyplot as plt\n",
    "from datetime import datetime\n",
    "import os\n",
    "import csv"
   ]
  },
  {
   "cell_type": "markdown",
   "metadata": {},
   "source": [
    "# Set Noise Level and Import Data"
   ]
  },
  {
   "cell_type": "code",
   "execution_count": 2,
   "metadata": {},
   "outputs": [],
   "source": [
    "noise = 30 # ADJUST level of gaussian noise added to outputs\n",
    "mod_type = 'svr'\n",
    "description = mod_type + '_noise-' + str(noise)\n",
    "filename = '../datasets/fuchs_v3-2_seed-5_points_25000_noise_' + str(noise) + '.csv'  # CHANGE TO DESIRED DATA FILE\n",
    "df = pd.read_csv(filename)\n",
    "\n",
    "input_list = ['Intensity_(W_cm2)', 'Target_Thickness (um)', 'Focal_Distance_(um)'] # independent variables\n",
    "output_list = ['Max_Proton_Energy_(MeV)', 'Total_Proton_Energy_(MeV)', 'Avg_Proton_Energy_(MeV)',\n",
    "               'Max_Proton_Energy_Exact_(MeV)', 'Total_Proton_Energy_Exact_(MeV)', 'Avg_Proton_Energy_Exact_(MeV)'] # training outputs\n",
    "\n",
    "X = df[input_list].copy()\n",
    "y = df[output_list].copy()\n",
    "X[X.columns[0]] = np.log(X[X.columns[0]]) # Apply log scaling to intensity\n",
    "for col in y.columns:\n",
    "    y[col] = np.log(y[col]) # Apply log scaling to energy\n",
    "\n",
    "dataType = 'float32'\n",
    "\n",
    "if device == \"GPU\":\n",
    "    X = X.to_cupy().astype(dtype=dataType)\n",
    "    y = y.to_cupy().astype(dtype=dataType)\n",
    "else:\n",
    "    X = X.to_numpy().astype(dtype=dataType)\n",
    "    y = y.to_numpy().astype(dtype=dataType)\n",
    "\n",
    "X_train, X_test, y_train, y_test = train_test_split(X, y, train_size=0.8, shuffle = False)\n",
    "y_train = y_train[:, 0:3]\n",
    "\n",
    "pct = 50 # Using 5.000/20,000 points in training set\n",
    "len_df = int(len(X_train)*(pct/100))\n",
    "X_train = X_train[0:len_df]\n",
    "y_train = y_train[0:len_df]\n",
    "\n",
    "# Apply standard scaler z-score normalization\n",
    "ss_in = StandardScaler()\n",
    "ss_in.fit(X_train)\n",
    "X_train_norm = ss_in.transform(X_train)\n",
    "\n",
    "ss_out = StandardScaler()\n",
    "ss_out.fit(y_train)\n",
    "y_train_norm = ss_out.transform(y_train)"
   ]
  },
  {
   "cell_type": "markdown",
   "metadata": {},
   "source": [
    "# Train SVR Model"
   ]
  },
  {
   "cell_type": "code",
   "execution_count": 3,
   "metadata": {},
   "outputs": [
    {
     "name": "stdout",
     "output_type": "stream",
     "text": [
      "0.25340605\n",
      "0.25292885\n",
      "0.25300977\n",
      "correction factors:  [array(1.0418509, dtype=float32), array(1.041774, dtype=float32), array(1.0422736, dtype=float32)]\n"
     ]
    }
   ],
   "source": [
    "C = 2.5\n",
    "epsilon = 1e-2\n",
    "tol = 1e-3\n",
    "\n",
    "num_inputs = 3\n",
    "num_outputs = 3\n",
    "\n",
    "svrs = []\n",
    "correction_factor = []\n",
    "for j in range(num_outputs):\n",
    "    svrs.append(SVR(C=C, epsilon=epsilon, tol=tol))\n",
    "    svrs[j].fit(X_train_norm, y_train_norm[:, j])\n",
    "    y_train_predict = svrs[j].predict(X_train_norm)\n",
    "    y_train_predict_unscaled = np.exp(ss_out.inverse_transform(y_train_predict.reshape(-1, 1).repeat(3, 1)))[:, j]\n",
    "    correction_factor.append(np.mean(np.exp(y_train[:, j])/y_train_predict_unscaled))\n",
    "    y_train_predict_corrected = y_train_predict_unscaled*correction_factor[j]\n",
    "    print(mape(np.exp(y_train[:, j]), y_train_predict_corrected))\n",
    "    X_train_norm = np.concatenate([X_train_norm, y_train_predict.reshape(-1, 1)], axis=1)\n",
    "print('correction factors: ', correction_factor)"
   ]
  },
  {
   "cell_type": "markdown",
   "metadata": {},
   "source": [
    "# Define Cost Function for Minimization"
   ]
  },
  {
   "cell_type": "code",
   "execution_count": 4,
   "metadata": {},
   "outputs": [],
   "source": [
    "def model(X):\n",
    "    X_mod = np.array(X).reshape(-1, 3)\n",
    "    X_mod[:,0] = np.log(X_mod[:,0])\n",
    "    X_scaled = ss_in.transform(X_mod)\n",
    "\n",
    "    Energies = []\n",
    "    for j in range(num_outputs):\n",
    "        y_predict = svrs[j].predict(X_scaled)\n",
    "        Energies.append(np.exp(ss_out.inverse_transform(y_predict.reshape(-1, 1).repeat(3, 1) ) )[:, j]*correction_factor[j])\n",
    "        X_scaled = np.concatenate([X_scaled, y_predict.reshape(-1, 1)], axis=1)\n",
    "    E_max, E_tot, E_avg = Energies # Max Energy, Total Energy, Average Energy\n",
    "    return (E_max, E_tot, E_avg)\n",
    "\n",
    "def generate_random_points(bounds, n):\n",
    "    numpy.random.seed(0)\n",
    "    points = []\n",
    "    for bound in bounds:\n",
    "        points.append(numpy.random.uniform(bound[0], bound[1], n))\n",
    "    return np.array(points).transpose()"
   ]
  },
  {
   "cell_type": "code",
   "execution_count": 5,
   "metadata": {},
   "outputs": [
    {
     "data": {
      "text/html": [
       "<div>\n",
       "<style scoped>\n",
       "    .dataframe tbody tr th:only-of-type {\n",
       "        vertical-align: middle;\n",
       "    }\n",
       "\n",
       "    .dataframe tbody tr th {\n",
       "        vertical-align: top;\n",
       "    }\n",
       "\n",
       "    .dataframe thead th {\n",
       "        text-align: right;\n",
       "    }\n",
       "</style>\n",
       "<table border=\"1\" class=\"dataframe\">\n",
       "  <thead>\n",
       "    <tr style=\"text-align: right;\">\n",
       "      <th></th>\n",
       "      <th>Intensity</th>\n",
       "      <th>Thickness</th>\n",
       "      <th>Offset</th>\n",
       "      <th>E Max</th>\n",
       "      <th>E Tot</th>\n",
       "      <th>E Avg</th>\n",
       "    </tr>\n",
       "  </thead>\n",
       "  <tbody>\n",
       "    <tr>\n",
       "      <th>0</th>\n",
       "      <td>1.000000e+19</td>\n",
       "      <td>5.584942</td>\n",
       "      <td>2.177699</td>\n",
       "      <td>0.366124</td>\n",
       "      <td>107148280.0</td>\n",
       "      <td>0.090360</td>\n",
       "    </tr>\n",
       "    <tr>\n",
       "      <th>1</th>\n",
       "      <td>1.000000e+19</td>\n",
       "      <td>9.088420</td>\n",
       "      <td>5.872497</td>\n",
       "      <td>0.125916</td>\n",
       "      <td>27613222.0</td>\n",
       "      <td>0.034055</td>\n",
       "    </tr>\n",
       "    <tr>\n",
       "      <th>2</th>\n",
       "      <td>1.000000e+19</td>\n",
       "      <td>5.272767</td>\n",
       "      <td>9.876133</td>\n",
       "      <td>0.189112</td>\n",
       "      <td>40440328.0</td>\n",
       "      <td>0.047701</td>\n",
       "    </tr>\n",
       "    <tr>\n",
       "      <th>3</th>\n",
       "      <td>1.000000e+19</td>\n",
       "      <td>1.458265</td>\n",
       "      <td>9.508670</td>\n",
       "      <td>0.596140</td>\n",
       "      <td>139035440.0</td>\n",
       "      <td>0.120011</td>\n",
       "    </tr>\n",
       "    <tr>\n",
       "      <th>4</th>\n",
       "      <td>1.000000e+19</td>\n",
       "      <td>5.512029</td>\n",
       "      <td>3.429715</td>\n",
       "      <td>0.343987</td>\n",
       "      <td>98597472.0</td>\n",
       "      <td>0.085412</td>\n",
       "    </tr>\n",
       "  </tbody>\n",
       "</table>\n",
       "</div>"
      ],
      "text/plain": [
       "      Intensity  Thickness    Offset     E Max        E Tot     E Avg\n",
       "0  1.000000e+19   5.584942  2.177699  0.366124  107148280.0  0.090360\n",
       "1  1.000000e+19   9.088420  5.872497  0.125916   27613222.0  0.034055\n",
       "2  1.000000e+19   5.272767  9.876133  0.189112   40440328.0  0.047701\n",
       "3  1.000000e+19   1.458265  9.508670  0.596140  139035440.0  0.120011\n",
       "4  1.000000e+19   5.512029  3.429715  0.343987   98597472.0  0.085412"
      ]
     },
     "execution_count": 5,
     "metadata": {},
     "output_type": "execute_result"
    }
   ],
   "source": [
    "bounds = [(1e19, 1e19), (0.5, 10.0), (0, 10.0)]\n",
    "n_points = 100000\n",
    "points = generate_random_points(bounds, n_points)\n",
    "Emax, Etot, Eavg = model(points)\n",
    "output_df = pd.DataFrame(columns=['Intensity', 'Thickness', 'Offset', 'E Max', 'E Tot', 'E Avg'])\n",
    "output_df['Intensity'] = points[:, 0]\n",
    "output_df['Thickness'] = points[:, 1]\n",
    "output_df['Offset'] = points[:, 2]\n",
    "output_df['E Max'] = Emax\n",
    "output_df['E Tot'] = Etot\n",
    "output_df['E Avg'] = Eavg\n",
    "output_df.head()"
   ]
  },
  {
   "cell_type": "code",
   "execution_count": 6,
   "metadata": {},
   "outputs": [],
   "source": [
    "output_df.to_pandas().to_csv('predictions_dfs/{}_noise={}_train_pts={}.csv'.format(mod_type, noise, len_df), index=False)"
   ]
  },
  {
   "cell_type": "code",
   "execution_count": null,
   "metadata": {},
   "outputs": [],
   "source": []
  }
 ],
 "metadata": {
  "kernelspec": {
   "display_name": "rapids-22.10 [rapids-22.10]",
   "language": "python",
   "name": "conda_rapids-22.10"
  },
  "language_info": {
   "codemirror_mode": {
    "name": "ipython",
    "version": 3
   },
   "file_extension": ".py",
   "mimetype": "text/x-python",
   "name": "python",
   "nbconvert_exporter": "python",
   "pygments_lexer": "ipython3",
   "version": "3.9.15"
  }
 },
 "nbformat": 4,
 "nbformat_minor": 4
}
