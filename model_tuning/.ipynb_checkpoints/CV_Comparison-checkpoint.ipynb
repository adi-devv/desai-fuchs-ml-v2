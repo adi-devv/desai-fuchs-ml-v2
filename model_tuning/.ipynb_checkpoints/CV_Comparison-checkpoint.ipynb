{
 "cells": [
  {
   "cell_type": "code",
   "execution_count": 2,
   "metadata": {},
   "outputs": [],
   "source": [
    "import numpy as np\n",
    "import pickle\n",
    "import matplotlib.pyplot as plt\n",
    "import pandas as pd "
   ]
  },
  {
   "cell_type": "code",
   "execution_count": 3,
   "metadata": {},
   "outputs": [],
   "source": [
    "with open('nn_cv_results/grid_search_5k.pkl', 'rb') as f:\n",
    "    nn_results = pickle.load(f)\n",
    "\n",
    "svr_results = pd.read_csv('svr_cv_results/grid_search_5k.csv')\n",
    "gpr_results = pd.read_csv('gpr_cv_results/grid_search_5k.csv')"
   ]
  },
  {
   "cell_type": "code",
   "execution_count": 13,
   "metadata": {},
   "outputs": [
    {
     "name": "stdout",
     "output_type": "stream",
     "text": [
      "-0.00584266223013401 0.00028218234513761366\n",
      "{'batch_size': 256, 'callbacks__lr_scheduler__gamma': 0.98, 'module__activation': LeakyReLU(negative_slope=0.01), 'module__n_hidden': 3, 'module__n_neurons': 32, 'optimizer': <class 'torch.optim.adam.Adam'>, 'optimizer__lr': 0.001, 'train_split': functools.partial(<function _make_split at 0x2b098492e1f0>, valid_ds=<skorch.dataset.Dataset object at 0x2b08d90d9520>)}\n",
      "-0.0045773253310471 0.0002369623158116\n",
      "[2.5e+00 1.0e-02 1.0e-03]\n",
      "-0.0044792878286292 0.0002003532459671\n",
      "(0.5, 30)\n"
     ]
    }
   ],
   "source": [
    "scores = []\n",
    "pairs = []\n",
    "stds = []\n",
    "\n",
    "best_nn_idx = np.argmax(nn_results['mean_test_score'])\n",
    "nn_score = nn_results['mean_test_score'][best_nn_idx]\n",
    "nn_params = nn_results['params'][best_nn_idx]\n",
    "nn_std = nn_results['std_test_score'][best_nn_idx]\n",
    "print(nn_score, nn_std)\n",
    "print(nn_params)\n",
    "\n",
    "best_svr_idx = np.argmin(svr_results['Mean Squared Error'])\n",
    "svr_score = -svr_results['Mean Squared Error'][best_svr_idx]\n",
    "svr_params = svr_results['Params (C, ϵ, tol)'][best_svr_idx]\n",
    "svr_std = svr_results['Standard Deviation'][best_svr_idx]\n",
    "print(svr_score, svr_std)\n",
    "print(svr_params)\n",
    "\n",
    "best_gpr_idx = np.argmin(gpr_results['Mean Squared Error'])\n",
    "gpr_score = -gpr_results['Mean Squared Error'][best_gpr_idx]\n",
    "gpr_params = gpr_results['Params (lr, epochs)'][best_gpr_idx]\n",
    "gpr_std = gpr_results['Standard Deviation'][best_gpr_idx]\n",
    "gpr_uncertainty = gpr_results['Uncertainty'][best_gpr_idx]\n",
    "print(gpr_score, gpr_std)\n",
    "print(gpr_params)\n",
    "# for i in range(len(grids)):\n",
    "#     len_grid = len(grids[i]['params'])\n",
    "#     scores += list(grids[i]['mean_test_score'])\n",
    "#     pairs += [(i+1, grids[i]['params'][j]['module__n_neurons']) for j in range(len_grid)]\n",
    "#     stds += list(grids[i]['std_test_score'])"
   ]
  },
  {
   "cell_type": "code",
   "execution_count": 20,
   "metadata": {},
   "outputs": [
    {
     "data": {
      "text/plain": [
       "Text(0.5, 0, 'Model')"
      ]
     },
     "execution_count": 20,
     "metadata": {},
     "output_type": "execute_result"
    },
    {
     "data": {
      "image/png": "[encoded data removed]",
      "text/plain": [
       "<Figure size 432x360 with 1 Axes>"
      ]
     },
     "metadata": {
      "needs_background": "light"
     },
     "output_type": "display_data"
    }
   ],
   "source": [
    "fig, ax = plt.subplots(figsize=(6,5))\n",
    "ax.grid()\n",
    "ax.set_axisbelow(True)\n",
    "ax.errorbar(0, nn_score, yerr=nn_std,fmt='o', color='r', capsize=5)\n",
    "ax.errorbar(1, gpr_score, yerr=gpr_std,fmt='o', color='g', capsize=5)\n",
    "ax.errorbar(2, svr_score, yerr=svr_std,fmt='o', color='b', capsize=5)\n",
    "ax.scatter(0, nn_score, s=300, marker='o', color='r', edgecolors='k')\n",
    "ax.scatter(1, gpr_score, s=300, marker='o', color='g', edgecolors='k')\n",
    "ax.text(1.1, gpr_score, 'σ={:.3f}'.format(gpr_uncertainty), fontsize=16, color='g')\n",
    "ax.scatter(2, svr_score, s=300, marker='o', color='b', edgecolors='k')\n",
    "#p = ax.scatter(range(len(scores[start:])), scores[start:], s=300, marker='o', cmap='viridis', c=weights, edgecolors='k')\n",
    "ax.set_xticks([0, 1, 2])\n",
    "ax.set_xticklabels(['NN', 'GPR', 'SVR'])\n",
    "ax.tick_params(axis='both', labelsize=16)\n",
    "ax.set_ylabel('Validation Score', fontsize=20)\n",
    "ax.set_xlabel('Model', fontsize=20)\n",
    "#ax.tick_params(axis='x', rotation=30)\n",
    "#fig.savefig('nn_cv_results/grid_search_20k.jpeg', dpi=300, bbox_inches='tight')"
   ]
  },
  {
   "cell_type": "code",
   "execution_count": 24,
   "metadata": {},
   "outputs": [
    {
     "data": {
      "text/plain": [
       "(1, 3)"
      ]
     },
     "execution_count": 24,
     "metadata": {},
     "output_type": "execute_result"
    }
   ],
   "source": [
    "tuple([1, 3])"
   ]
  },
  {
   "cell_type": "code",
   "execution_count": 18,
   "metadata": {},
   "outputs": [
    {
     "name": "stdout",
     "output_type": "stream",
     "text": [
      "(1, 3)\n",
      "1 3\n"
     ]
    }
   ],
   "source": [
    "a = (1, 3)\n",
    "print(a)\n",
    "print(*a)"
   ]
  },
  {
   "cell_type": "code",
   "execution_count": null,
   "metadata": {},
   "outputs": [],
   "source": []
  }
 ],
 "metadata": {
  "kernelspec": {
   "display_name": "Python 3",
   "language": "python",
   "name": "python3"
  },
  "language_info": {
   "codemirror_mode": {
    "name": "ipython",
    "version": 3
   },
   "file_extension": ".py",
   "mimetype": "text/x-python",
   "name": "python",
   "nbconvert_exporter": "python",
   "pygments_lexer": "ipython3",
   "version": "3.6.8"
  }
 },
 "nbformat": 4,
 "nbformat_minor": 4
}
