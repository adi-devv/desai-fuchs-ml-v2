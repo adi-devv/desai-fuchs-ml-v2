{
 "cells": [
  {
   "cell_type": "code",
   "execution_count": 1,
   "id": "1ef901f1-f4db-4925-9283-5994fe3251e0",
   "metadata": {},
   "outputs": [
    {
     "name": "stdout",
     "output_type": "stream",
     "text": [
      "Using  cuda\n"
     ]
    }
   ],
   "source": [
    "import numpy as np\n",
    "import torch\n",
    "import torch.nn as nn\n",
    "import torch.optim as optim\n",
    "import pickle\n",
    "import sys\n",
    "import pandas as pd\n",
    "import time\n",
    "from datetime import datetime\n",
    "import matplotlib.pyplot as plt\n",
    "from tqdm.auto import tqdm, trange\n",
    "from sklearn.model_selection import train_test_split\n",
    "from sklearn.preprocessing import StandardScaler\n",
    "from sklearn.metrics import mean_squared_error, r2_score, mean_absolute_percentage_error\n",
    "import itertools\n",
    "sys.path.append('../')\n",
    "device = torch.device('cuda' if torch.cuda.is_available() else 'cpu')\n",
    "import gpytorch\n",
    "import warnings\n",
    "warnings.filterwarnings(\"ignore\", message=\"The input matches the stored training data. Did you forget to call model.train()?\") \n",
    "import gc\n",
    "print('Using ', device)\n",
    "dataType = torch.float64\n",
    "torch.set_default_dtype(dataType)"
   ]
  },
  {
   "cell_type": "code",
   "execution_count": 2,
   "id": "402264ad-eebd-4173-9c41-e88c9997b9a5",
   "metadata": {},
   "outputs": [],
   "source": [
    "noise = 10 # ADJUST level of gaussian noise added to outputs\n",
    "mod_type = 'gpr'\n",
    "description = mod_type + '_noise-' + str(noise)\n",
    "filename = '../datasets/fuchs_v3-2_seed-5_points_25000_noise_' + str(noise) + '.csv'  # CHANGE TO DESIRED DATA FILE\n",
    "df = pd.read_csv(filename)"
   ]
  },
  {
   "cell_type": "code",
   "execution_count": 3,
   "id": "287f8774-7fa4-4e6d-970a-7e23e90211f4",
   "metadata": {},
   "outputs": [
    {
     "name": "stdout",
     "output_type": "stream",
     "text": [
      "train ds length:  5000\n",
      "torch.float64\n"
     ]
    }
   ],
   "source": [
    "input_list = ['Intensity_(W_cm2)', 'Target_Thickness (um)', 'Focal_Distance_(um)'] # independent variables\n",
    "output_list = ['Max_Proton_Energy_(MeV)', 'Total_Proton_Energy_(MeV)', 'Avg_Proton_Energy_(MeV)',\n",
    "               'Max_Proton_Energy_Exact_(MeV)', 'Total_Proton_Energy_Exact_(MeV)', 'Avg_Proton_Energy_Exact_(MeV)'] # training outputs\n",
    "\n",
    "X = df[input_list].copy()\n",
    "y = df[output_list].copy()\n",
    "# X.iloc[:, 0] = X.iloc[:,0].apply(lambda x: np.log(x)) # Apply Log Scale to Intensity\n",
    "# y.iloc[:] = y.iloc[:].apply(lambda x: np.log(x)) # Apply Log Scale to Max,Tot,Avg Energy\n",
    "X[X.columns[0]] = np.log(X[X.columns[0]])\n",
    "for col in y.columns:\n",
    "    y[col] = np.log(y[col])\n",
    "\n",
    "\n",
    "\n",
    "X = X.to_numpy()\n",
    "y = y.to_numpy()\n",
    "\n",
    "X_train, X_test, y_train, y_test = train_test_split(X, y, train_size=0.8, shuffle = False)\n",
    "y_train = y_train[:, 0:3]\n",
    "y_test = y_test[:, 3:6]\n",
    "pct = 25 # Using all 20,000 points in training/validation set\n",
    "len_df = int(len(X_train)*(pct/100))\n",
    "X_train = X_train[0:len_df]\n",
    "y_train = y_train[0:len_df]\n",
    "\n",
    "ss_in = StandardScaler()\n",
    "ss_in.fit(X_train)\n",
    "X_train_norm = ss_in.transform(X_train)\n",
    "X_test_norm = ss_in.transform(X_test)\n",
    "\n",
    "ss_out = StandardScaler()\n",
    "ss_out.fit(y_train)\n",
    "y_train_norm = ss_out.transform(y_train)\n",
    "\n",
    "X_train_norm = torch.tensor(X_train_norm, dtype=dataType)\n",
    "y_train_norm = torch.tensor(y_train_norm, dtype=dataType)\n",
    "\n",
    "print('train ds length: ', len(X_train_norm))\n",
    "print(X_train_norm.dtype)"
   ]
  },
  {
   "cell_type": "code",
   "execution_count": 4,
   "id": "df10eacc-41aa-4145-a34f-259244661d9a",
   "metadata": {},
   "outputs": [],
   "source": [
    "class Exact_GP(gpytorch.models.ExactGP):\n",
    "    def __init__(self, train_x, train_y, likelihood):\n",
    "        super(Exact_GP, self).__init__(train_x, train_y, likelihood)\n",
    "        self.mean_module = gpytorch.means.ConstantMean()\n",
    "        self.covar_module = gpytorch.kernels.ScaleKernel(gpytorch.kernels.RBFKernel())\n",
    "\n",
    "    def forward(self, x):\n",
    "        mean_x = self.mean_module(x)\n",
    "        covar_x = self.covar_module(x)\n",
    "        return gpytorch.distributions.MultivariateNormal(mean_x, covar_x)"
   ]
  },
  {
   "cell_type": "code",
   "execution_count": 5,
   "id": "eaa77081-235c-4df6-8629-01a08cdd2dcd",
   "metadata": {},
   "outputs": [
    {
     "name": "stdout",
     "output_type": "stream",
     "text": [
      "starting CV for lr=1.0, epochs=30\n"
     ]
    },
    {
     "data": {
      "application/vnd.jupyter.widget-view+json": {
       "model_id": "665934ab453e4d22afbed5c9d8d016c2",
       "version_major": 2,
       "version_minor": 0
      },
      "text/plain": [
       "CV:   0%|          | 0/3 [00:00<?, ?it/s]"
      ]
     },
     "metadata": {},
     "output_type": "display_data"
    },
    {
     "data": {
      "application/vnd.jupyter.widget-view+json": {
       "model_id": "",
       "version_major": 2,
       "version_minor": 0
      },
      "text/plain": [
       "output:   0%|          | 0/3 [00:00<?, ?it/s]"
      ]
     },
     "metadata": {},
     "output_type": "display_data"
    },
    {
     "name": "stdout",
     "output_type": "stream",
     "text": [
      "11.299093204743034 11.327267603898488\n",
      "8.753550000104461 8.76265320838631\n",
      "11.52476573292332 11.533655622652395\n"
     ]
    },
    {
     "data": {
      "application/vnd.jupyter.widget-view+json": {
       "model_id": "",
       "version_major": 2,
       "version_minor": 0
      },
      "text/plain": [
       "output:   0%|          | 0/3 [00:00<?, ?it/s]"
      ]
     },
     "metadata": {},
     "output_type": "display_data"
    },
    {
     "name": "stdout",
     "output_type": "stream",
     "text": [
      "11.046664636608888 11.074110414771253\n",
      "8.568949422385948 8.578168537163716\n",
      "11.273872864859811 11.282491381047782\n"
     ]
    },
    {
     "data": {
      "application/vnd.jupyter.widget-view+json": {
       "model_id": "",
       "version_major": 2,
       "version_minor": 0
      },
      "text/plain": [
       "output:   0%|          | 0/3 [00:00<?, ?it/s]"
      ]
     },
     "metadata": {},
     "output_type": "display_data"
    },
    {
     "name": "stdout",
     "output_type": "stream",
     "text": [
      "10.95994421926057 10.987265055674495\n",
      "8.45793043472608 8.467885304833771\n",
      "11.127539382175598 11.136390578341675\n",
      "starting CV for lr=1.0, epochs=50\n"
     ]
    },
    {
     "data": {
      "application/vnd.jupyter.widget-view+json": {
       "model_id": "6e54891a441c4d4c87390e8d53b6c2b5",
       "version_major": 2,
       "version_minor": 0
      },
      "text/plain": [
       "CV:   0%|          | 0/3 [00:00<?, ?it/s]"
      ]
     },
     "metadata": {},
     "output_type": "display_data"
    },
    {
     "data": {
      "application/vnd.jupyter.widget-view+json": {
       "model_id": "",
       "version_major": 2,
       "version_minor": 0
      },
      "text/plain": [
       "output:   0%|          | 0/3 [00:00<?, ?it/s]"
      ]
     },
     "metadata": {},
     "output_type": "display_data"
    },
    {
     "name": "stdout",
     "output_type": "stream",
     "text": [
      "11.192062036169347 11.217418901891195\n",
      "10.674286841372965 10.68335898643542\n",
      "11.086936935374005 11.094497462288345\n"
     ]
    },
    {
     "data": {
      "application/vnd.jupyter.widget-view+json": {
       "model_id": "",
       "version_major": 2,
       "version_minor": 0
      },
      "text/plain": [
       "output:   0%|          | 0/3 [00:00<?, ?it/s]"
      ]
     },
     "metadata": {},
     "output_type": "display_data"
    },
    {
     "name": "stdout",
     "output_type": "stream",
     "text": [
      "11.095515496922935 11.120455205756771\n",
      "10.509128658931619 10.519002421155266\n",
      "10.971744333593719 10.97926191305321\n"
     ]
    },
    {
     "data": {
      "application/vnd.jupyter.widget-view+json": {
       "model_id": "",
       "version_major": 2,
       "version_minor": 0
      },
      "text/plain": [
       "output:   0%|          | 0/3 [00:00<?, ?it/s]"
      ]
     },
     "metadata": {},
     "output_type": "display_data"
    },
    {
     "name": "stdout",
     "output_type": "stream",
     "text": [
      "10.960754571967659 10.987977622144417\n",
      "10.353991583094011 10.362962722335062\n",
      "10.865849032190962 10.872950314428943\n",
      "starting CV for lr=0.5, epochs=30\n"
     ]
    },
    {
     "data": {
      "application/vnd.jupyter.widget-view+json": {
       "model_id": "3a9cb9e8d3824a358d83bc8c0ba118d1",
       "version_major": 2,
       "version_minor": 0
      },
      "text/plain": [
       "CV:   0%|          | 0/3 [00:00<?, ?it/s]"
      ]
     },
     "metadata": {},
     "output_type": "display_data"
    },
    {
     "data": {
      "application/vnd.jupyter.widget-view+json": {
       "model_id": "",
       "version_major": 2,
       "version_minor": 0
      },
      "text/plain": [
       "output:   0%|          | 0/3 [00:00<?, ?it/s]"
      ]
     },
     "metadata": {},
     "output_type": "display_data"
    },
    {
     "name": "stdout",
     "output_type": "stream",
     "text": [
      "12.898719968176819 12.923756443571497\n",
      "14.599536707080363 14.617825840190328\n",
      "12.529035322204518 12.5426203594805\n"
     ]
    },
    {
     "data": {
      "application/vnd.jupyter.widget-view+json": {
       "model_id": "",
       "version_major": 2,
       "version_minor": 0
      },
      "text/plain": [
       "output:   0%|          | 0/3 [00:00<?, ?it/s]"
      ]
     },
     "metadata": {},
     "output_type": "display_data"
    },
    {
     "name": "stdout",
     "output_type": "stream",
     "text": [
      "12.777552321089372 12.802677525894634\n",
      "14.401908521390196 14.419581142424414\n",
      "12.414110663932863 12.427311628066978\n"
     ]
    },
    {
     "data": {
      "application/vnd.jupyter.widget-view+json": {
       "model_id": "",
       "version_major": 2,
       "version_minor": 0
      },
      "text/plain": [
       "output:   0%|          | 0/3 [00:00<?, ?it/s]"
      ]
     },
     "metadata": {},
     "output_type": "display_data"
    },
    {
     "name": "stdout",
     "output_type": "stream",
     "text": [
      "12.678995320434058 12.701170331332001\n",
      "14.255852165800217 14.274020031770705\n",
      "12.341984519270184 12.355589645752557\n",
      "starting CV for lr=0.5, epochs=50\n"
     ]
    },
    {
     "data": {
      "application/vnd.jupyter.widget-view+json": {
       "model_id": "44872d0b3d5242fb856b292d89515c7c",
       "version_major": 2,
       "version_minor": 0
      },
      "text/plain": [
       "CV:   0%|          | 0/3 [00:00<?, ?it/s]"
      ]
     },
     "metadata": {},
     "output_type": "display_data"
    },
    {
     "data": {
      "application/vnd.jupyter.widget-view+json": {
       "model_id": "",
       "version_major": 2,
       "version_minor": 0
      },
      "text/plain": [
       "output:   0%|          | 0/3 [00:00<?, ?it/s]"
      ]
     },
     "metadata": {},
     "output_type": "display_data"
    },
    {
     "name": "stdout",
     "output_type": "stream",
     "text": [
      "11.417513447535281 11.442747546162382\n",
      "10.78235201012544 10.793494921099441\n",
      "11.349781180546163 11.35953711373544\n"
     ]
    },
    {
     "data": {
      "application/vnd.jupyter.widget-view+json": {
       "model_id": "",
       "version_major": 2,
       "version_minor": 0
      },
      "text/plain": [
       "output:   0%|          | 0/3 [00:00<?, ?it/s]"
      ]
     },
     "metadata": {},
     "output_type": "display_data"
    },
    {
     "name": "stdout",
     "output_type": "stream",
     "text": [
      "11.264642139552144 11.290296075295949\n",
      "10.608512141206138 10.621155813330198\n",
      "11.21461004624059 11.224739499089038\n"
     ]
    },
    {
     "data": {
      "application/vnd.jupyter.widget-view+json": {
       "model_id": "",
       "version_major": 2,
       "version_minor": 0
      },
      "text/plain": [
       "output:   0%|          | 0/3 [00:00<?, ?it/s]"
      ]
     },
     "metadata": {},
     "output_type": "display_data"
    },
    {
     "name": "stdout",
     "output_type": "stream",
     "text": [
      "11.148077638949182 11.173669002467483\n",
      "10.449576500533771 10.460447948412728\n",
      "11.08841697661122 11.097849852346144\n",
      "starting CV for lr=0.2, epochs=30\n"
     ]
    },
    {
     "data": {
      "application/vnd.jupyter.widget-view+json": {
       "model_id": "086e99500d664039b96100a03661d3e9",
       "version_major": 2,
       "version_minor": 0
      },
      "text/plain": [
       "CV:   0%|          | 0/3 [00:00<?, ?it/s]"
      ]
     },
     "metadata": {},
     "output_type": "display_data"
    },
    {
     "data": {
      "application/vnd.jupyter.widget-view+json": {
       "model_id": "",
       "version_major": 2,
       "version_minor": 0
      },
      "text/plain": [
       "output:   0%|          | 0/3 [00:00<?, ?it/s]"
      ]
     },
     "metadata": {},
     "output_type": "display_data"
    },
    {
     "name": "stdout",
     "output_type": "stream",
     "text": [
      "8.45508025049703 8.473747781328623\n",
      "12.040334420222681 12.063123357624615\n",
      "8.183655917408585 8.199339251342161\n"
     ]
    },
    {
     "data": {
      "application/vnd.jupyter.widget-view+json": {
       "model_id": "",
       "version_major": 2,
       "version_minor": 0
      },
      "text/plain": [
       "output:   0%|          | 0/3 [00:00<?, ?it/s]"
      ]
     },
     "metadata": {},
     "output_type": "display_data"
    },
    {
     "name": "stdout",
     "output_type": "stream",
     "text": [
      "8.38715282868354 8.405881056132717\n",
      "12.017162902884746 12.04083916645892\n",
      "8.111105709077108 8.127123241217273\n"
     ]
    },
    {
     "data": {
      "application/vnd.jupyter.widget-view+json": {
       "model_id": "",
       "version_major": 2,
       "version_minor": 0
      },
      "text/plain": [
       "output:   0%|          | 0/3 [00:00<?, ?it/s]"
      ]
     },
     "metadata": {},
     "output_type": "display_data"
    },
    {
     "name": "stdout",
     "output_type": "stream",
     "text": [
      "8.347938495055848 8.366822084806198\n",
      "11.992443245158302 12.015302454466111\n",
      "8.055341962329683 8.070638795223404\n",
      "starting CV for lr=0.2, epochs=50\n"
     ]
    },
    {
     "data": {
      "application/vnd.jupyter.widget-view+json": {
       "model_id": "ff7454924db74929955f5132c1ff2018",
       "version_major": 2,
       "version_minor": 0
      },
      "text/plain": [
       "CV:   0%|          | 0/3 [00:00<?, ?it/s]"
      ]
     },
     "metadata": {},
     "output_type": "display_data"
    },
    {
     "data": {
      "application/vnd.jupyter.widget-view+json": {
       "model_id": "",
       "version_major": 2,
       "version_minor": 0
      },
      "text/plain": [
       "output:   0%|          | 0/3 [00:00<?, ?it/s]"
      ]
     },
     "metadata": {},
     "output_type": "display_data"
    },
    {
     "name": "stdout",
     "output_type": "stream",
     "text": [
      "11.812219550624015 11.838038084447707\n",
      "10.291598643598137 10.307544317844512\n",
      "11.832810754797567 11.848515318877617\n"
     ]
    },
    {
     "data": {
      "application/vnd.jupyter.widget-view+json": {
       "model_id": "",
       "version_major": 2,
       "version_minor": 0
      },
      "text/plain": [
       "output:   0%|          | 0/3 [00:00<?, ?it/s]"
      ]
     },
     "metadata": {},
     "output_type": "display_data"
    },
    {
     "name": "stdout",
     "output_type": "stream",
     "text": [
      "11.632757318531805 11.658683747435184\n",
      "10.096322777417951 10.113101668017979\n",
      "11.669251870245066 11.68565639927024\n"
     ]
    },
    {
     "data": {
      "application/vnd.jupyter.widget-view+json": {
       "model_id": "",
       "version_major": 2,
       "version_minor": 0
      },
      "text/plain": [
       "output:   0%|          | 0/3 [00:00<?, ?it/s]"
      ]
     },
     "metadata": {},
     "output_type": "display_data"
    },
    {
     "name": "stdout",
     "output_type": "stream",
     "text": [
      "11.505010536853941 11.5297272516704\n",
      "9.938095705579 9.954205182673512\n",
      "11.539068128582652 11.554891999532368\n",
      "starting CV for lr=0.1, epochs=30\n"
     ]
    },
    {
     "data": {
      "application/vnd.jupyter.widget-view+json": {
       "model_id": "be5ff9c89bc7467aab7d3471459eae26",
       "version_major": 2,
       "version_minor": 0
      },
      "text/plain": [
       "CV:   0%|          | 0/3 [00:00<?, ?it/s]"
      ]
     },
     "metadata": {},
     "output_type": "display_data"
    },
    {
     "data": {
      "application/vnd.jupyter.widget-view+json": {
       "model_id": "",
       "version_major": 2,
       "version_minor": 0
      },
      "text/plain": [
       "output:   0%|          | 0/3 [00:00<?, ?it/s]"
      ]
     },
     "metadata": {},
     "output_type": "display_data"
    },
    {
     "name": "stdout",
     "output_type": "stream",
     "text": [
      "31.765856298687257 31.82249295323597\n",
      "59.05751775206947 59.18218513041553\n",
      "29.30334550304523 29.357675785320385\n"
     ]
    },
    {
     "data": {
      "application/vnd.jupyter.widget-view+json": {
       "model_id": "",
       "version_major": 2,
       "version_minor": 0
      },
      "text/plain": [
       "output:   0%|          | 0/3 [00:00<?, ?it/s]"
      ]
     },
     "metadata": {},
     "output_type": "display_data"
    },
    {
     "name": "stdout",
     "output_type": "stream",
     "text": [
      "31.770102355754634 31.82614274042344\n",
      "59.07309168631529 59.19561991407065\n",
      "29.300357365566196 29.354776912691584\n"
     ]
    },
    {
     "data": {
      "application/vnd.jupyter.widget-view+json": {
       "model_id": "",
       "version_major": 2,
       "version_minor": 0
      },
      "text/plain": [
       "output:   0%|          | 0/3 [00:00<?, ?it/s]"
      ]
     },
     "metadata": {},
     "output_type": "display_data"
    },
    {
     "name": "stdout",
     "output_type": "stream",
     "text": [
      "31.77053488009046 31.82429188992405\n",
      "59.06437411707759 59.18381210400407\n",
      "29.289504346313098 29.341434290335062\n",
      "starting CV for lr=0.1, epochs=50\n"
     ]
    },
    {
     "data": {
      "application/vnd.jupyter.widget-view+json": {
       "model_id": "c65ba8d405bc4d59b7f31f34d2483533",
       "version_major": 2,
       "version_minor": 0
      },
      "text/plain": [
       "CV:   0%|          | 0/3 [00:00<?, ?it/s]"
      ]
     },
     "metadata": {},
     "output_type": "display_data"
    },
    {
     "data": {
      "application/vnd.jupyter.widget-view+json": {
       "model_id": "",
       "version_major": 2,
       "version_minor": 0
      },
      "text/plain": [
       "output:   0%|          | 0/3 [00:00<?, ?it/s]"
      ]
     },
     "metadata": {},
     "output_type": "display_data"
    },
    {
     "name": "stdout",
     "output_type": "stream",
     "text": [
      "12.023322047080965 12.04837431804616\n",
      "18.791613896049874 18.829433643661076\n",
      "11.373656039988747 11.396841865375446\n"
     ]
    },
    {
     "data": {
      "application/vnd.jupyter.widget-view+json": {
       "model_id": "",
       "version_major": 2,
       "version_minor": 0
      },
      "text/plain": [
       "output:   0%|          | 0/3 [00:00<?, ?it/s]"
      ]
     },
     "metadata": {},
     "output_type": "display_data"
    },
    {
     "name": "stdout",
     "output_type": "stream",
     "text": [
      "11.977980594543538 12.003211588542264\n",
      "18.778291529559553 18.816881025071968\n",
      "11.323919433487793 11.347897963294592\n"
     ]
    },
    {
     "data": {
      "application/vnd.jupyter.widget-view+json": {
       "model_id": "",
       "version_major": 2,
       "version_minor": 0
      },
      "text/plain": [
       "output:   0%|          | 0/3 [00:00<?, ?it/s]"
      ]
     },
     "metadata": {},
     "output_type": "display_data"
    },
    {
     "name": "stdout",
     "output_type": "stream",
     "text": [
      "11.949779830117977 11.974424828669582\n",
      "18.761221716434083 18.798803729767606\n",
      "11.285661303836662 11.30858257973994\n",
      "starting CV for lr=0.05, epochs=30\n"
     ]
    },
    {
     "data": {
      "application/vnd.jupyter.widget-view+json": {
       "model_id": "681bb458ec434eea884afd03bdf31778",
       "version_major": 2,
       "version_minor": 0
      },
      "text/plain": [
       "CV:   0%|          | 0/3 [00:00<?, ?it/s]"
      ]
     },
     "metadata": {},
     "output_type": "display_data"
    },
    {
     "data": {
      "application/vnd.jupyter.widget-view+json": {
       "model_id": "",
       "version_major": 2,
       "version_minor": 0
      },
      "text/plain": [
       "output:   0%|          | 0/3 [00:00<?, ?it/s]"
      ]
     },
     "metadata": {},
     "output_type": "display_data"
    },
    {
     "name": "stdout",
     "output_type": "stream",
     "text": [
      "79.70126410938519 79.89961865208976\n",
      "201.1735758639963 201.97150612731696\n",
      "71.83495432748586 72.03438070344858\n"
     ]
    },
    {
     "data": {
      "application/vnd.jupyter.widget-view+json": {
       "model_id": "",
       "version_major": 2,
       "version_minor": 0
      },
      "text/plain": [
       "output:   0%|          | 0/3 [00:00<?, ?it/s]"
      ]
     },
     "metadata": {},
     "output_type": "display_data"
    },
    {
     "name": "stdout",
     "output_type": "stream",
     "text": [
      "79.72695893702554 79.91875205914478\n",
      "201.287551235474 202.06282058993784\n",
      "71.85312776257919 72.04287652489406\n"
     ]
    },
    {
     "data": {
      "application/vnd.jupyter.widget-view+json": {
       "model_id": "",
       "version_major": 2,
       "version_minor": 0
      },
      "text/plain": [
       "output:   0%|          | 0/3 [00:00<?, ?it/s]"
      ]
     },
     "metadata": {},
     "output_type": "display_data"
    },
    {
     "name": "stdout",
     "output_type": "stream",
     "text": [
      "79.72480013552129 79.91178261702059\n",
      "201.27903128847737 202.02935890003894\n",
      "71.85530342577425 72.04323631675992\n",
      "starting CV for lr=0.05, epochs=50\n"
     ]
    },
    {
     "data": {
      "application/vnd.jupyter.widget-view+json": {
       "model_id": "3389b154584e44119d8947d5e5802525",
       "version_major": 2,
       "version_minor": 0
      },
      "text/plain": [
       "CV:   0%|          | 0/3 [00:00<?, ?it/s]"
      ]
     },
     "metadata": {},
     "output_type": "display_data"
    },
    {
     "data": {
      "application/vnd.jupyter.widget-view+json": {
       "model_id": "",
       "version_major": 2,
       "version_minor": 0
      },
      "text/plain": [
       "output:   0%|          | 0/3 [00:00<?, ?it/s]"
      ]
     },
     "metadata": {},
     "output_type": "display_data"
    },
    {
     "name": "stdout",
     "output_type": "stream",
     "text": [
      "41.619596427744554 41.703630329127364\n",
      "82.10633357012959 82.32092087444894\n",
      "38.19210554150568 38.274709389802\n"
     ]
    },
    {
     "data": {
      "application/vnd.jupyter.widget-view+json": {
       "model_id": "",
       "version_major": 2,
       "version_minor": 0
      },
      "text/plain": [
       "output:   0%|          | 0/3 [00:00<?, ?it/s]"
      ]
     },
     "metadata": {},
     "output_type": "display_data"
    },
    {
     "name": "stdout",
     "output_type": "stream",
     "text": [
      "41.620335858171806 41.70326557159341\n",
      "82.13950720499591 82.35141806570277\n",
      "38.189108827927456 38.27210558952392\n"
     ]
    },
    {
     "data": {
      "application/vnd.jupyter.widget-view+json": {
       "model_id": "",
       "version_major": 2,
       "version_minor": 0
      },
      "text/plain": [
       "output:   0%|          | 0/3 [00:00<?, ?it/s]"
      ]
     },
     "metadata": {},
     "output_type": "display_data"
    },
    {
     "name": "stdout",
     "output_type": "stream",
     "text": [
      "41.614506432323495 41.695968026255734\n",
      "82.11518336603395 82.32602070424623\n",
      "38.192820790436755 38.27133151285379\n",
      "best (lowest) mse:  0.0044761239907867385  with σ= 0.00017116592584453318  and estimated uncertainty  12.785089203233417\n",
      "with params lr=0.5, epochs=30\n"
     ]
    }
   ],
   "source": [
    "param_grid = {\n",
    "    'lr': [1e0, 5e-1, 2e-1, 1e-1, 5e-2],\n",
    "    'num_epochs': [30, 50],\n",
    "}\n",
    "#param_grid = {'lr': [5e-1], 'num_epochs': [1]}\n",
    "\n",
    "param_nested_list = [param_grid[key] for key in param_grid.keys()]\n",
    "param_list = list(itertools.product(*param_nested_list))\n",
    "\n",
    "def k_fold_split(X, k=5):\n",
    "    # Calculate the size of each fold\n",
    "    fold_size = len(X) // k\n",
    "\n",
    "    # Initialize a list to store the folds\n",
    "    folds = []\n",
    "\n",
    "    # Create each fold\n",
    "    for i in range(k):\n",
    "        # Calculate the start and end indices of the current fold\n",
    "        start = i * fold_size\n",
    "        end = (i + 1) * fold_size if i < k - 1 else len(X)\n",
    "\n",
    "        # Get the fold data\n",
    "        fold = X[start:end]\n",
    "\n",
    "        # Add the fold to the list of folds\n",
    "        folds.append(fold)\n",
    "\n",
    "    return folds\n",
    "    \n",
    "def k_fold_cv(cv=5, lr=1e-3, num_epochs=50):\n",
    "    print('starting CV for lr={}, epochs={}'.format(lr, num_epochs))\n",
    "    folds_X = k_fold_split(X_train_norm, k=cv)\n",
    "    folds_y = k_fold_split(y_train_norm, k=cv)\n",
    "    num_outputs = len(y_train_norm[0])\n",
    "    mse_list = np.zeros((cv, num_outputs))\n",
    "    mean_uncertainty_list = np.zeros((cv, num_outputs))\n",
    "    median_uncertainty_list = np.zeros((cv, num_outputs))\n",
    "\n",
    "    \n",
    "    for i in trange(cv, desc='CV'):\n",
    "        idx_list = list(range(cv))\n",
    "        del idx_list[i]\n",
    "        \n",
    "        X_train_cv = torch.concat([folds_X[k] for k in idx_list], axis=0)\n",
    "        y_train_cv = torch.concat([folds_y[k] for k in idx_list], axis=0)\n",
    "        X_val_cv = folds_X[i]\n",
    "        y_val_cv = folds_y[i]\n",
    "        \n",
    "        for j in trange(num_outputs, desc='output', leave=False, position=0):\n",
    "            likelihood = gpytorch.likelihoods.GaussianLikelihood()\n",
    "            model = Exact_GP(X_train_cv, y_train_cv[:, j], likelihood)\n",
    "        \n",
    "            model.train()\n",
    "            likelihood.train()\n",
    "\n",
    "            optimizer = torch.optim.Adam(model.parameters(), lr=lr)\n",
    "            mll = gpytorch.mlls.ExactMarginalLogLikelihood(likelihood, model)\n",
    "        \n",
    "            current_it = 0\n",
    "            while(current_it < num_epochs):\n",
    "                # Zero the Gradients\n",
    "                optimizer.zero_grad()\n",
    "                \n",
    "                # Perform Forward Pass\n",
    "                model_output = model(X_train_cv)\n",
    "                \n",
    "                # Compute Loss\n",
    "                loss = -mll(model_output, y_train_cv[:, j])\n",
    "                \n",
    "                # Perform Backward Pass\n",
    "                loss.backward()\n",
    "                \n",
    "                # Clear cache\n",
    "                gc.collect()\n",
    "                torch.cuda.empty_cache()\n",
    "                current_it += 1\n",
    "                \n",
    "                # Optimization\n",
    "                optimizer.step()\n",
    "            \n",
    "            model.eval()\n",
    "            likelihood.eval()\n",
    "            with torch.no_grad(), gpytorch.settings.fast_pred_var():\n",
    "                pred_dist_train = likelihood(model(X_train_cv))\n",
    "                pred_dist_val = likelihood(model(X_val_cv))\n",
    "                y_train_predict = pred_dist_train.mean\n",
    "                y_val_predict = pred_dist_val.mean\n",
    "                #variance = pred_dist_val.variance\n",
    "                lower, upper = pred_dist_val.confidence_region()\n",
    "                lower_unscaled = np.exp(ss_out.inverse_transform(lower.reshape(-1, 1).repeat(1, 3)))[:, j]\n",
    "                upper_unscaled = np.exp(ss_out.inverse_transform(upper.reshape(-1, 1).repeat(1, 3)))[:, j]\n",
    "                y_val_predict_unscaled = np.exp(ss_out.inverse_transform(y_val_predict.reshape(-1, 1).repeat(1, 3)))[:, j]\n",
    "                mse_list[i, j] = mean_squared_error(y_val_cv[:, j], y_val_predict)\n",
    "                median_uncertainty_list[i, j] = np.median((upper_unscaled - lower_unscaled)/(4*y_val_predict_unscaled)*100)\n",
    "                mean_uncertainty_list[i, j] = np.mean((upper_unscaled - lower_unscaled)/(4*y_val_predict_unscaled)*100)\n",
    "                print(median_uncertainty_list[i, j], mean_uncertainty_list[i, j])\n",
    "                X_train_cv = torch.concat([X_train_cv, y_train_predict.reshape(-1, 1)], axis=1)\n",
    "                X_val_cv = torch.concat([X_val_cv, y_val_predict.reshape(-1, 1)], axis=1)\n",
    "        \n",
    "    mse_list_energy_averaged = np.mean(mse_list, axis=1)\n",
    "    mean_cv_mse = np.mean(mse_list_energy_averaged)\n",
    "    std_cv_mse = np.std(mse_list_energy_averaged)\n",
    "    mean_uncertainty_max = np.mean(mean_uncertainty_list[:, 0])\n",
    "    median_uncertainty_max = np.mean(median_uncertainty_list[:, 0])\n",
    "    return [mean_cv_mse, std_cv_mse, mean_uncertainty_max, median_uncertainty_max]\n",
    "\n",
    "def GridSearchCV(param_list, cv=5):\n",
    "    mse_list = np.zeros(len(param_list))\n",
    "    std_list = np.zeros(len(param_list))\n",
    "    mean_unc_list = np.zeros(len(param_list))\n",
    "    median_unc_list = np.zeros(len(param_list))\n",
    "    for k, param in enumerate(param_list):\n",
    "        lr = param[0]\n",
    "        num_epochs = param[1]\n",
    "        mse, std, σ1, σ2 = k_fold_cv(cv=cv, lr=lr, num_epochs=num_epochs)\n",
    "        mse_list[k] = mse\n",
    "        std_list[k] = std\n",
    "        mean_unc_list[k] = σ1\n",
    "        median_unc_list[k] = σ2\n",
    "    best_idx = np.argmin(mse_list)\n",
    "    print('best (lowest) mse: ', mse_list[best_idx], ' with σ=', std_list[best_idx], ' and estimated uncertainty ', median_unc_list[best_idx])\n",
    "    print('with params lr={}, epochs={}'.format(param_list[int(best_idx)][0], param_list[int(best_idx)][1]))\n",
    "    return pd.DataFrame({'Params (lr, epochs)':param_list, 'Mean Squared Error':mse_list, 'Standard Deviation':std_list, 'Mean Uncertainty': mean_unc_list, 'Median Uncertainty': median_unc_list})\n",
    "        \n",
    "        \n",
    "output_df = GridSearchCV(param_list, cv=3)"
   ]
  },
  {
   "cell_type": "code",
   "execution_count": 7,
   "id": "2144c122-2e23-4120-a558-0a9fdd2d1910",
   "metadata": {},
   "outputs": [
    {
     "data": {
      "text/html": [
       "<div>\n",
       "<style scoped>\n",
       "    .dataframe tbody tr th:only-of-type {\n",
       "        vertical-align: middle;\n",
       "    }\n",
       "\n",
       "    .dataframe tbody tr th {\n",
       "        vertical-align: top;\n",
       "    }\n",
       "\n",
       "    .dataframe thead th {\n",
       "        text-align: right;\n",
       "    }\n",
       "</style>\n",
       "<table border=\"1\" class=\"dataframe\">\n",
       "  <thead>\n",
       "    <tr style=\"text-align: right;\">\n",
       "      <th></th>\n",
       "      <th>Params (lr, epochs)</th>\n",
       "      <th>Mean Squared Error</th>\n",
       "      <th>Standard Deviation</th>\n",
       "      <th>Mean Uncertainty</th>\n",
       "      <th>Median Uncertainty</th>\n",
       "    </tr>\n",
       "  </thead>\n",
       "  <tbody>\n",
       "    <tr>\n",
       "      <th>2</th>\n",
       "      <td>(0.5, 30)</td>\n",
       "      <td>0.004476</td>\n",
       "      <td>0.000171</td>\n",
       "      <td>12.809201</td>\n",
       "      <td>12.785089</td>\n",
       "    </tr>\n",
       "    <tr>\n",
       "      <th>3</th>\n",
       "      <td>(0.5, 50)</td>\n",
       "      <td>0.004483</td>\n",
       "      <td>0.000170</td>\n",
       "      <td>11.302238</td>\n",
       "      <td>11.276744</td>\n",
       "    </tr>\n",
       "    <tr>\n",
       "      <th>5</th>\n",
       "      <td>(0.2, 50)</td>\n",
       "      <td>0.004485</td>\n",
       "      <td>0.000175</td>\n",
       "      <td>11.675483</td>\n",
       "      <td>11.649996</td>\n",
       "    </tr>\n",
       "    <tr>\n",
       "      <th>4</th>\n",
       "      <td>(0.2, 30)</td>\n",
       "      <td>0.004508</td>\n",
       "      <td>0.000169</td>\n",
       "      <td>8.415484</td>\n",
       "      <td>8.396724</td>\n",
       "    </tr>\n",
       "    <tr>\n",
       "      <th>7</th>\n",
       "      <td>(0.1, 50)</td>\n",
       "      <td>0.004509</td>\n",
       "      <td>0.000165</td>\n",
       "      <td>12.008670</td>\n",
       "      <td>11.983694</td>\n",
       "    </tr>\n",
       "    <tr>\n",
       "      <th>0</th>\n",
       "      <td>(1.0, 30)</td>\n",
       "      <td>0.004512</td>\n",
       "      <td>0.000198</td>\n",
       "      <td>11.129548</td>\n",
       "      <td>11.101901</td>\n",
       "    </tr>\n",
       "    <tr>\n",
       "      <th>1</th>\n",
       "      <td>(1.0, 50)</td>\n",
       "      <td>0.004519</td>\n",
       "      <td>0.000192</td>\n",
       "      <td>11.108617</td>\n",
       "      <td>11.082777</td>\n",
       "    </tr>\n",
       "    <tr>\n",
       "      <th>6</th>\n",
       "      <td>(0.1, 30)</td>\n",
       "      <td>0.004645</td>\n",
       "      <td>0.000182</td>\n",
       "      <td>31.824309</td>\n",
       "      <td>31.768831</td>\n",
       "    </tr>\n",
       "    <tr>\n",
       "      <th>9</th>\n",
       "      <td>(0.05, 50)</td>\n",
       "      <td>0.004741</td>\n",
       "      <td>0.000181</td>\n",
       "      <td>41.700955</td>\n",
       "      <td>41.618146</td>\n",
       "    </tr>\n",
       "    <tr>\n",
       "      <th>8</th>\n",
       "      <td>(0.05, 30)</td>\n",
       "      <td>0.005300</td>\n",
       "      <td>0.000244</td>\n",
       "      <td>79.910051</td>\n",
       "      <td>79.717674</td>\n",
       "    </tr>\n",
       "  </tbody>\n",
       "</table>\n",
       "</div>"
      ],
      "text/plain": [
       "  Params (lr, epochs)  Mean Squared Error  Standard Deviation  \\\n",
       "2           (0.5, 30)            0.004476            0.000171   \n",
       "3           (0.5, 50)            0.004483            0.000170   \n",
       "5           (0.2, 50)            0.004485            0.000175   \n",
       "4           (0.2, 30)            0.004508            0.000169   \n",
       "7           (0.1, 50)            0.004509            0.000165   \n",
       "0           (1.0, 30)            0.004512            0.000198   \n",
       "1           (1.0, 50)            0.004519            0.000192   \n",
       "6           (0.1, 30)            0.004645            0.000182   \n",
       "9          (0.05, 50)            0.004741            0.000181   \n",
       "8          (0.05, 30)            0.005300            0.000244   \n",
       "\n",
       "   Mean Uncertainty  Median Uncertainty  \n",
       "2         12.809201           12.785089  \n",
       "3         11.302238           11.276744  \n",
       "5         11.675483           11.649996  \n",
       "4          8.415484            8.396724  \n",
       "7         12.008670           11.983694  \n",
       "0         11.129548           11.101901  \n",
       "1         11.108617           11.082777  \n",
       "6         31.824309           31.768831  \n",
       "9         41.700955           41.618146  \n",
       "8         79.910051           79.717674  "
      ]
     },
     "metadata": {},
     "output_type": "display_data"
    }
   ],
   "source": [
    "display(output_df.sort_values(by='Mean Squared Error', ascending=True))"
   ]
  },
  {
   "cell_type": "code",
   "execution_count": 8,
   "id": "ea5d143f-29c8-40bf-be9d-5fee3cbe4847",
   "metadata": {},
   "outputs": [],
   "source": [
    "output_df.to_csv('gpr_cv_results/grid_search.csv', index=False)"
   ]
  }
 ],
 "metadata": {
  "kernelspec": {
   "display_name": "pytorch-env [pytorch-env]",
   "language": "python",
   "name": "conda_pytorch-env"
  },
  "language_info": {
   "codemirror_mode": {
    "name": "ipython",
    "version": 3
   },
   "file_extension": ".py",
   "mimetype": "text/x-python",
   "name": "python",
   "nbconvert_exporter": "python",
   "pygments_lexer": "ipython3",
   "version": "3.9.12"
  }
 },
 "nbformat": 4,
 "nbformat_minor": 5
}
