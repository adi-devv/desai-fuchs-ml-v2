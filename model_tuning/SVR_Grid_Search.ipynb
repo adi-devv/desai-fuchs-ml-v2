{
 "cells": [
  {
   "cell_type": "markdown",
   "metadata": {},
   "source": [
    "# Grid Search for SVR Hyperparameters\n",
    "- `cuml` doesn't natively support `GridSearchCV` and `KFold` CV\n",
    "    + Created my own implementation"
   ]
  },
  {
   "cell_type": "code",
   "execution_count": 1,
   "metadata": {},
   "outputs": [
    {
     "name": "stdout",
     "output_type": "stream",
     "text": [
      "CUDA is available: using GPU\n"
     ]
    }
   ],
   "source": [
    "device = \"GPU\" # CPU or GPU (must set manually, don't know how to do this automatically in rapids 22.10)\n",
    "if device == \"GPU\":\n",
    "    print(\"CUDA is available: using GPU\")\n",
    "    import cudf as pd\n",
    "    import cupy as np\n",
    "    import cuml\n",
    "    from cuml.svm import SVR\n",
    "    from cuml.model_selection import train_test_split\n",
    "    from cuml.preprocessing import StandardScaler\n",
    "    from cuml.metrics import mean_squared_error\n",
    "else:\n",
    "    print(\"CUDA not available: using CPU\")\n",
    "    import numpy as np\n",
    "    import pandas as pd\n",
    "    from sklearn.svm import SVR\n",
    "    from sklearn.metrics import mean_squared_error, r2_score, mean_absolute_percentage_error\n",
    "    from sklearn.model_selection import train_test_split\n",
    "    from sklearn.preprocessing import StandardScaler\n",
    "from tqdm.auto import tqdm, trange\n",
    "import itertools\n",
    "import time\n",
    "from sklearn.model_selection import GridSearchCV\n",
    "import matplotlib.pyplot as plt\n",
    "from datetime import datetime\n",
    "import os\n",
    "import csv"
   ]
  },
  {
   "cell_type": "code",
   "execution_count": 2,
   "metadata": {},
   "outputs": [],
   "source": [
    "noise = 10 # ADJUST level of gaussian noise added to outputs\n",
    "mod_type = 'svr'\n",
    "description = mod_type + '_noise-' + str(noise)\n",
    "filename = '../datasets/fuchs_v3-2_seed-5_points_25000_noise_' + str(noise) + '.csv'  # CHANGE TO DESIRED DATA FILE\n",
    "df = pd.read_csv(filename)"
   ]
  },
  {
   "cell_type": "code",
   "execution_count": 3,
   "metadata": {},
   "outputs": [],
   "source": [
    "input_list = ['Intensity_(W_cm2)', 'Target_Thickness (um)', 'Focal_Distance_(um)'] # independent variables\n",
    "output_list = ['Max_Proton_Energy_(MeV)', 'Total_Proton_Energy_(MeV)', 'Avg_Proton_Energy_(MeV)',\n",
    "               'Max_Proton_Energy_Exact_(MeV)', 'Total_Proton_Energy_Exact_(MeV)', 'Avg_Proton_Energy_Exact_(MeV)'] # training outputs\n",
    "\n",
    "X = df[input_list].copy()\n",
    "y = df[output_list].copy()\n",
    "X[X.columns[0]] = np.log(X[X.columns[0]]) # Apply log scaling to intensity\n",
    "for col in y.columns:\n",
    "    y[col] = np.log(y[col]) # Apply log scaling to energy\n",
    "\n",
    "dataType = 'float32'\n",
    "\n",
    "if device == \"GPU\":\n",
    "    X = X.to_cupy().astype(dtype=dataType)\n",
    "    y = y.to_cupy().astype(dtype=dataType)\n",
    "else:\n",
    "    X = X.to_numpy().astype(dtype=dataType)\n",
    "    y = y.to_numpy().astype(dtype=dataType)\n",
    "\n",
    "X_train, X_test, y_train, y_test = train_test_split(X, y, train_size=0.8, shuffle = False)\n",
    "y_train = y_train[:, 0:3]\n",
    "y_test = y_test[:, 3:6] # Not used for grid search\n",
    "\n",
    "pct = 25 # Using 5.000/20,000 points in training/validation set\n",
    "len_df = int(len(X_train)*(pct/100))\n",
    "X_train = X_train[0:len_df]\n",
    "y_train = y_train[0:len_df]\n",
    "\n",
    "# Apply standard scaler z-score normalization\n",
    "ss_in = StandardScaler()\n",
    "ss_in.fit(X_train)\n",
    "X_train_norm = ss_in.transform(X_train)\n",
    "X_test_norm = ss_in.transform(X_test)\n",
    "\n",
    "ss_out = StandardScaler()\n",
    "ss_out.fit(y_train)\n",
    "y_train_norm = ss_out.transform(y_train)"
   ]
  },
  {
   "cell_type": "code",
   "execution_count": 5,
   "metadata": {},
   "outputs": [
    {
     "name": "stdout",
     "output_type": "stream",
     "text": [
      "starting CV for C=0.1, eps=0.01, tol=0.01\n"
     ]
    },
    {
     "data": {
      "application/vnd.jupyter.widget-view+json": {
       "model_id": "d0f6c15e349b454a94e93f7dfb7a89f7",
       "version_major": 2,
       "version_minor": 0
      },
      "text/plain": [
       "CV:   0%|          | 0/5 [00:00<?, ?it/s]"
      ]
     },
     "metadata": {},
     "output_type": "display_data"
    },
    {
     "name": "stdout",
     "output_type": "stream",
     "text": [
      "starting CV for C=0.1, eps=0.01, tol=0.001\n"
     ]
    },
    {
     "data": {
      "application/vnd.jupyter.widget-view+json": {
       "model_id": "31e307bd7239401fbd2b36b8ca2dcaaa",
       "version_major": 2,
       "version_minor": 0
      },
      "text/plain": [
       "CV:   0%|          | 0/5 [00:00<?, ?it/s]"
      ]
     },
     "metadata": {},
     "output_type": "display_data"
    },
    {
     "name": "stdout",
     "output_type": "stream",
     "text": [
      "starting CV for C=0.1, eps=0.01, tol=0.0001\n"
     ]
    },
    {
     "data": {
      "application/vnd.jupyter.widget-view+json": {
       "model_id": "0a9dc67e07ff4737af30ad60094b78ea",
       "version_major": 2,
       "version_minor": 0
      },
      "text/plain": [
       "CV:   0%|          | 0/5 [00:00<?, ?it/s]"
      ]
     },
     "metadata": {},
     "output_type": "display_data"
    },
    {
     "name": "stdout",
     "output_type": "stream",
     "text": [
      "starting CV for C=0.1, eps=0.001, tol=0.01\n"
     ]
    },
    {
     "data": {
      "application/vnd.jupyter.widget-view+json": {
       "model_id": "28cf88a2b7774ecda47bce678fe4ec05",
       "version_major": 2,
       "version_minor": 0
      },
      "text/plain": [
       "CV:   0%|          | 0/5 [00:00<?, ?it/s]"
      ]
     },
     "metadata": {},
     "output_type": "display_data"
    },
    {
     "name": "stdout",
     "output_type": "stream",
     "text": [
      "starting CV for C=0.1, eps=0.001, tol=0.001\n"
     ]
    },
    {
     "data": {
      "application/vnd.jupyter.widget-view+json": {
       "model_id": "c4bf625215934f879c2b221929c4c631",
       "version_major": 2,
       "version_minor": 0
      },
      "text/plain": [
       "CV:   0%|          | 0/5 [00:00<?, ?it/s]"
      ]
     },
     "metadata": {},
     "output_type": "display_data"
    },
    {
     "name": "stdout",
     "output_type": "stream",
     "text": [
      "starting CV for C=0.1, eps=0.001, tol=0.0001\n"
     ]
    },
    {
     "data": {
      "application/vnd.jupyter.widget-view+json": {
       "model_id": "b7f5b5eea74845cf946dafa01ae0d675",
       "version_major": 2,
       "version_minor": 0
      },
      "text/plain": [
       "CV:   0%|          | 0/5 [00:00<?, ?it/s]"
      ]
     },
     "metadata": {},
     "output_type": "display_data"
    },
    {
     "name": "stdout",
     "output_type": "stream",
     "text": [
      "starting CV for C=0.1, eps=0.0001, tol=0.01\n"
     ]
    },
    {
     "data": {
      "application/vnd.jupyter.widget-view+json": {
       "model_id": "d8acf81dedd34af6a9c0c7c075e0f128",
       "version_major": 2,
       "version_minor": 0
      },
      "text/plain": [
       "CV:   0%|          | 0/5 [00:00<?, ?it/s]"
      ]
     },
     "metadata": {},
     "output_type": "display_data"
    },
    {
     "name": "stdout",
     "output_type": "stream",
     "text": [
      "starting CV for C=0.1, eps=0.0001, tol=0.001\n"
     ]
    },
    {
     "data": {
      "application/vnd.jupyter.widget-view+json": {
       "model_id": "6728a683d3a64bf6b0f973b719f8a591",
       "version_major": 2,
       "version_minor": 0
      },
      "text/plain": [
       "CV:   0%|          | 0/5 [00:00<?, ?it/s]"
      ]
     },
     "metadata": {},
     "output_type": "display_data"
    },
    {
     "name": "stdout",
     "output_type": "stream",
     "text": [
      "starting CV for C=0.1, eps=0.0001, tol=0.0001\n"
     ]
    },
    {
     "data": {
      "application/vnd.jupyter.widget-view+json": {
       "model_id": "951e808b867e4cd7bc01becbbde7b4df",
       "version_major": 2,
       "version_minor": 0
      },
      "text/plain": [
       "CV:   0%|          | 0/5 [00:00<?, ?it/s]"
      ]
     },
     "metadata": {},
     "output_type": "display_data"
    },
    {
     "name": "stdout",
     "output_type": "stream",
     "text": [
      "starting CV for C=0.25, eps=0.01, tol=0.01\n"
     ]
    },
    {
     "data": {
      "application/vnd.jupyter.widget-view+json": {
       "model_id": "ecb5135d804a499bb68210ce4aa92bea",
       "version_major": 2,
       "version_minor": 0
      },
      "text/plain": [
       "CV:   0%|          | 0/5 [00:00<?, ?it/s]"
      ]
     },
     "metadata": {},
     "output_type": "display_data"
    },
    {
     "name": "stdout",
     "output_type": "stream",
     "text": [
      "starting CV for C=0.25, eps=0.01, tol=0.001\n"
     ]
    },
    {
     "data": {
      "application/vnd.jupyter.widget-view+json": {
       "model_id": "db48cb1204dd4fe389abccb1e45cfcaf",
       "version_major": 2,
       "version_minor": 0
      },
      "text/plain": [
       "CV:   0%|          | 0/5 [00:00<?, ?it/s]"
      ]
     },
     "metadata": {},
     "output_type": "display_data"
    },
    {
     "name": "stdout",
     "output_type": "stream",
     "text": [
      "starting CV for C=0.25, eps=0.01, tol=0.0001\n"
     ]
    },
    {
     "data": {
      "application/vnd.jupyter.widget-view+json": {
       "model_id": "7e6aeef23d124220b0c6b00b8310922c",
       "version_major": 2,
       "version_minor": 0
      },
      "text/plain": [
       "CV:   0%|          | 0/5 [00:00<?, ?it/s]"
      ]
     },
     "metadata": {},
     "output_type": "display_data"
    },
    {
     "name": "stdout",
     "output_type": "stream",
     "text": [
      "starting CV for C=0.25, eps=0.001, tol=0.01\n"
     ]
    },
    {
     "data": {
      "application/vnd.jupyter.widget-view+json": {
       "model_id": "8cb3296491124cadbdecf90d8289321a",
       "version_major": 2,
       "version_minor": 0
      },
      "text/plain": [
       "CV:   0%|          | 0/5 [00:00<?, ?it/s]"
      ]
     },
     "metadata": {},
     "output_type": "display_data"
    },
    {
     "name": "stdout",
     "output_type": "stream",
     "text": [
      "starting CV for C=0.25, eps=0.001, tol=0.001\n"
     ]
    },
    {
     "data": {
      "application/vnd.jupyter.widget-view+json": {
       "model_id": "5da734dc5d494994b42dfdac007b0d0e",
       "version_major": 2,
       "version_minor": 0
      },
      "text/plain": [
       "CV:   0%|          | 0/5 [00:00<?, ?it/s]"
      ]
     },
     "metadata": {},
     "output_type": "display_data"
    },
    {
     "name": "stdout",
     "output_type": "stream",
     "text": [
      "starting CV for C=0.25, eps=0.001, tol=0.0001\n"
     ]
    },
    {
     "data": {
      "application/vnd.jupyter.widget-view+json": {
       "model_id": "53ee989b97f24005b08f30378ecb07db",
       "version_major": 2,
       "version_minor": 0
      },
      "text/plain": [
       "CV:   0%|          | 0/5 [00:00<?, ?it/s]"
      ]
     },
     "metadata": {},
     "output_type": "display_data"
    },
    {
     "name": "stdout",
     "output_type": "stream",
     "text": [
      "starting CV for C=0.25, eps=0.0001, tol=0.01\n"
     ]
    },
    {
     "data": {
      "application/vnd.jupyter.widget-view+json": {
       "model_id": "8812be3c3862470da31cb559847e0617",
       "version_major": 2,
       "version_minor": 0
      },
      "text/plain": [
       "CV:   0%|          | 0/5 [00:00<?, ?it/s]"
      ]
     },
     "metadata": {},
     "output_type": "display_data"
    },
    {
     "name": "stdout",
     "output_type": "stream",
     "text": [
      "starting CV for C=0.25, eps=0.0001, tol=0.001\n"
     ]
    },
    {
     "data": {
      "application/vnd.jupyter.widget-view+json": {
       "model_id": "687980a59eac4319902a9642716c1f47",
       "version_major": 2,
       "version_minor": 0
      },
      "text/plain": [
       "CV:   0%|          | 0/5 [00:00<?, ?it/s]"
      ]
     },
     "metadata": {},
     "output_type": "display_data"
    },
    {
     "name": "stdout",
     "output_type": "stream",
     "text": [
      "starting CV for C=0.25, eps=0.0001, tol=0.0001\n"
     ]
    },
    {
     "data": {
      "application/vnd.jupyter.widget-view+json": {
       "model_id": "08aaef2f9bae44fbb97a866bd4c129a4",
       "version_major": 2,
       "version_minor": 0
      },
      "text/plain": [
       "CV:   0%|          | 0/5 [00:00<?, ?it/s]"
      ]
     },
     "metadata": {},
     "output_type": "display_data"
    },
    {
     "name": "stdout",
     "output_type": "stream",
     "text": [
      "starting CV for C=1, eps=0.01, tol=0.01\n"
     ]
    },
    {
     "data": {
      "application/vnd.jupyter.widget-view+json": {
       "model_id": "d45ed6f7777a4d26a795c3ed2b9f8e84",
       "version_major": 2,
       "version_minor": 0
      },
      "text/plain": [
       "CV:   0%|          | 0/5 [00:00<?, ?it/s]"
      ]
     },
     "metadata": {},
     "output_type": "display_data"
    },
    {
     "name": "stdout",
     "output_type": "stream",
     "text": [
      "starting CV for C=1, eps=0.01, tol=0.001\n"
     ]
    },
    {
     "data": {
      "application/vnd.jupyter.widget-view+json": {
       "model_id": "e55ced407f624ff0aea134e4a17b68a3",
       "version_major": 2,
       "version_minor": 0
      },
      "text/plain": [
       "CV:   0%|          | 0/5 [00:00<?, ?it/s]"
      ]
     },
     "metadata": {},
     "output_type": "display_data"
    },
    {
     "name": "stdout",
     "output_type": "stream",
     "text": [
      "starting CV for C=1, eps=0.01, tol=0.0001\n"
     ]
    },
    {
     "data": {
      "application/vnd.jupyter.widget-view+json": {
       "model_id": "264b94c9e0e7481b9a16e9cae5cab0fa",
       "version_major": 2,
       "version_minor": 0
      },
      "text/plain": [
       "CV:   0%|          | 0/5 [00:00<?, ?it/s]"
      ]
     },
     "metadata": {},
     "output_type": "display_data"
    },
    {
     "name": "stdout",
     "output_type": "stream",
     "text": [
      "starting CV for C=1, eps=0.001, tol=0.01\n"
     ]
    },
    {
     "data": {
      "application/vnd.jupyter.widget-view+json": {
       "model_id": "79f112f056d343d8b611a4ff542c6b71",
       "version_major": 2,
       "version_minor": 0
      },
      "text/plain": [
       "CV:   0%|          | 0/5 [00:00<?, ?it/s]"
      ]
     },
     "metadata": {},
     "output_type": "display_data"
    },
    {
     "name": "stdout",
     "output_type": "stream",
     "text": [
      "starting CV for C=1, eps=0.001, tol=0.001\n"
     ]
    },
    {
     "data": {
      "application/vnd.jupyter.widget-view+json": {
       "model_id": "bcbcefeb3efa4bf5aa60b430e37c3ca6",
       "version_major": 2,
       "version_minor": 0
      },
      "text/plain": [
       "CV:   0%|          | 0/5 [00:00<?, ?it/s]"
      ]
     },
     "metadata": {},
     "output_type": "display_data"
    },
    {
     "name": "stdout",
     "output_type": "stream",
     "text": [
      "starting CV for C=1, eps=0.001, tol=0.0001\n"
     ]
    },
    {
     "data": {
      "application/vnd.jupyter.widget-view+json": {
       "model_id": "413cc949ce994cecaee93a429235a9e3",
       "version_major": 2,
       "version_minor": 0
      },
      "text/plain": [
       "CV:   0%|          | 0/5 [00:00<?, ?it/s]"
      ]
     },
     "metadata": {},
     "output_type": "display_data"
    },
    {
     "name": "stdout",
     "output_type": "stream",
     "text": [
      "starting CV for C=1, eps=0.0001, tol=0.01\n"
     ]
    },
    {
     "data": {
      "application/vnd.jupyter.widget-view+json": {
       "model_id": "b3cf05b0c7604b6f90ea313dd0dad853",
       "version_major": 2,
       "version_minor": 0
      },
      "text/plain": [
       "CV:   0%|          | 0/5 [00:00<?, ?it/s]"
      ]
     },
     "metadata": {},
     "output_type": "display_data"
    },
    {
     "name": "stdout",
     "output_type": "stream",
     "text": [
      "starting CV for C=1, eps=0.0001, tol=0.001\n"
     ]
    },
    {
     "data": {
      "application/vnd.jupyter.widget-view+json": {
       "model_id": "03b43e87887a42bdb0c2d39a0190781a",
       "version_major": 2,
       "version_minor": 0
      },
      "text/plain": [
       "CV:   0%|          | 0/5 [00:00<?, ?it/s]"
      ]
     },
     "metadata": {},
     "output_type": "display_data"
    },
    {
     "name": "stdout",
     "output_type": "stream",
     "text": [
      "starting CV for C=1, eps=0.0001, tol=0.0001\n"
     ]
    },
    {
     "data": {
      "application/vnd.jupyter.widget-view+json": {
       "model_id": "08825fe3256142769cf2bb238195fe58",
       "version_major": 2,
       "version_minor": 0
      },
      "text/plain": [
       "CV:   0%|          | 0/5 [00:00<?, ?it/s]"
      ]
     },
     "metadata": {},
     "output_type": "display_data"
    },
    {
     "name": "stdout",
     "output_type": "stream",
     "text": [
      "starting CV for C=2.5, eps=0.01, tol=0.01\n"
     ]
    },
    {
     "data": {
      "application/vnd.jupyter.widget-view+json": {
       "model_id": "68c022c5fa4a422ba74540b605497940",
       "version_major": 2,
       "version_minor": 0
      },
      "text/plain": [
       "CV:   0%|          | 0/5 [00:00<?, ?it/s]"
      ]
     },
     "metadata": {},
     "output_type": "display_data"
    },
    {
     "name": "stdout",
     "output_type": "stream",
     "text": [
      "starting CV for C=2.5, eps=0.01, tol=0.001\n"
     ]
    },
    {
     "data": {
      "application/vnd.jupyter.widget-view+json": {
       "model_id": "ded5a3b1b9ae49ac87c0498cc3e5b838",
       "version_major": 2,
       "version_minor": 0
      },
      "text/plain": [
       "CV:   0%|          | 0/5 [00:00<?, ?it/s]"
      ]
     },
     "metadata": {},
     "output_type": "display_data"
    },
    {
     "name": "stdout",
     "output_type": "stream",
     "text": [
      "starting CV for C=2.5, eps=0.01, tol=0.0001\n"
     ]
    },
    {
     "data": {
      "application/vnd.jupyter.widget-view+json": {
       "model_id": "eceb6846b18a482cb64b5e0eb4dacdd3",
       "version_major": 2,
       "version_minor": 0
      },
      "text/plain": [
       "CV:   0%|          | 0/5 [00:00<?, ?it/s]"
      ]
     },
     "metadata": {},
     "output_type": "display_data"
    },
    {
     "name": "stdout",
     "output_type": "stream",
     "text": [
      "starting CV for C=2.5, eps=0.001, tol=0.01\n"
     ]
    },
    {
     "data": {
      "application/vnd.jupyter.widget-view+json": {
       "model_id": "187025dec9d540158d12e2c6c813fd2e",
       "version_major": 2,
       "version_minor": 0
      },
      "text/plain": [
       "CV:   0%|          | 0/5 [00:00<?, ?it/s]"
      ]
     },
     "metadata": {},
     "output_type": "display_data"
    },
    {
     "name": "stdout",
     "output_type": "stream",
     "text": [
      "starting CV for C=2.5, eps=0.001, tol=0.001\n"
     ]
    },
    {
     "data": {
      "application/vnd.jupyter.widget-view+json": {
       "model_id": "790d2d4b44444163b301618623b6b39e",
       "version_major": 2,
       "version_minor": 0
      },
      "text/plain": [
       "CV:   0%|          | 0/5 [00:00<?, ?it/s]"
      ]
     },
     "metadata": {},
     "output_type": "display_data"
    },
    {
     "name": "stdout",
     "output_type": "stream",
     "text": [
      "starting CV for C=2.5, eps=0.001, tol=0.0001\n"
     ]
    },
    {
     "data": {
      "application/vnd.jupyter.widget-view+json": {
       "model_id": "1e0d9905a112474c83fef3dd6a22deb5",
       "version_major": 2,
       "version_minor": 0
      },
      "text/plain": [
       "CV:   0%|          | 0/5 [00:00<?, ?it/s]"
      ]
     },
     "metadata": {},
     "output_type": "display_data"
    },
    {
     "name": "stdout",
     "output_type": "stream",
     "text": [
      "starting CV for C=2.5, eps=0.0001, tol=0.01\n"
     ]
    },
    {
     "data": {
      "application/vnd.jupyter.widget-view+json": {
       "model_id": "1878bdaa451f425b8b8928dc1798a70c",
       "version_major": 2,
       "version_minor": 0
      },
      "text/plain": [
       "CV:   0%|          | 0/5 [00:00<?, ?it/s]"
      ]
     },
     "metadata": {},
     "output_type": "display_data"
    },
    {
     "name": "stdout",
     "output_type": "stream",
     "text": [
      "starting CV for C=2.5, eps=0.0001, tol=0.001\n"
     ]
    },
    {
     "data": {
      "application/vnd.jupyter.widget-view+json": {
       "model_id": "a7120443c18b404e8ec3b2cf568c44d5",
       "version_major": 2,
       "version_minor": 0
      },
      "text/plain": [
       "CV:   0%|          | 0/5 [00:00<?, ?it/s]"
      ]
     },
     "metadata": {},
     "output_type": "display_data"
    },
    {
     "name": "stdout",
     "output_type": "stream",
     "text": [
      "starting CV for C=2.5, eps=0.0001, tol=0.0001\n"
     ]
    },
    {
     "data": {
      "application/vnd.jupyter.widget-view+json": {
       "model_id": "47cf7aad5d5e42288ae95822784adbbb",
       "version_major": 2,
       "version_minor": 0
      },
      "text/plain": [
       "CV:   0%|          | 0/5 [00:00<?, ?it/s]"
      ]
     },
     "metadata": {},
     "output_type": "display_data"
    },
    {
     "name": "stdout",
     "output_type": "stream",
     "text": [
      "starting CV for C=10, eps=0.01, tol=0.01\n"
     ]
    },
    {
     "data": {
      "application/vnd.jupyter.widget-view+json": {
       "model_id": "0b014765e57a48708bea7d5b394ac6be",
       "version_major": 2,
       "version_minor": 0
      },
      "text/plain": [
       "CV:   0%|          | 0/5 [00:00<?, ?it/s]"
      ]
     },
     "metadata": {},
     "output_type": "display_data"
    },
    {
     "name": "stdout",
     "output_type": "stream",
     "text": [
      "starting CV for C=10, eps=0.01, tol=0.001\n"
     ]
    },
    {
     "data": {
      "application/vnd.jupyter.widget-view+json": {
       "model_id": "9f0a330fb1e44b4181c9d3849b718f82",
       "version_major": 2,
       "version_minor": 0
      },
      "text/plain": [
       "CV:   0%|          | 0/5 [00:00<?, ?it/s]"
      ]
     },
     "metadata": {},
     "output_type": "display_data"
    },
    {
     "name": "stdout",
     "output_type": "stream",
     "text": [
      "starting CV for C=10, eps=0.01, tol=0.0001\n"
     ]
    },
    {
     "data": {
      "application/vnd.jupyter.widget-view+json": {
       "model_id": "2f245f19fe504b2b8b789dc036e116e6",
       "version_major": 2,
       "version_minor": 0
      },
      "text/plain": [
       "CV:   0%|          | 0/5 [00:00<?, ?it/s]"
      ]
     },
     "metadata": {},
     "output_type": "display_data"
    },
    {
     "name": "stdout",
     "output_type": "stream",
     "text": [
      "starting CV for C=10, eps=0.001, tol=0.01\n"
     ]
    },
    {
     "data": {
      "application/vnd.jupyter.widget-view+json": {
       "model_id": "b4d2f3c2edf24912b3134074d6dd5658",
       "version_major": 2,
       "version_minor": 0
      },
      "text/plain": [
       "CV:   0%|          | 0/5 [00:00<?, ?it/s]"
      ]
     },
     "metadata": {},
     "output_type": "display_data"
    },
    {
     "name": "stdout",
     "output_type": "stream",
     "text": [
      "starting CV for C=10, eps=0.001, tol=0.001\n"
     ]
    },
    {
     "data": {
      "application/vnd.jupyter.widget-view+json": {
       "model_id": "01bda9efd05d40a0bb42ee814555413d",
       "version_major": 2,
       "version_minor": 0
      },
      "text/plain": [
       "CV:   0%|          | 0/5 [00:00<?, ?it/s]"
      ]
     },
     "metadata": {},
     "output_type": "display_data"
    },
    {
     "name": "stdout",
     "output_type": "stream",
     "text": [
      "starting CV for C=10, eps=0.001, tol=0.0001\n"
     ]
    },
    {
     "data": {
      "application/vnd.jupyter.widget-view+json": {
       "model_id": "a75acf03d6e14222ad5c6614b5e9c1ab",
       "version_major": 2,
       "version_minor": 0
      },
      "text/plain": [
       "CV:   0%|          | 0/5 [00:00<?, ?it/s]"
      ]
     },
     "metadata": {},
     "output_type": "display_data"
    },
    {
     "name": "stdout",
     "output_type": "stream",
     "text": [
      "starting CV for C=10, eps=0.0001, tol=0.01\n"
     ]
    },
    {
     "data": {
      "application/vnd.jupyter.widget-view+json": {
       "model_id": "b693c8d690fc408b8dfd9a2085a0bbc1",
       "version_major": 2,
       "version_minor": 0
      },
      "text/plain": [
       "CV:   0%|          | 0/5 [00:00<?, ?it/s]"
      ]
     },
     "metadata": {},
     "output_type": "display_data"
    },
    {
     "name": "stdout",
     "output_type": "stream",
     "text": [
      "starting CV for C=10, eps=0.0001, tol=0.001\n"
     ]
    },
    {
     "data": {
      "application/vnd.jupyter.widget-view+json": {
       "model_id": "80e541161d0444eb8338a5d5552b5300",
       "version_major": 2,
       "version_minor": 0
      },
      "text/plain": [
       "CV:   0%|          | 0/5 [00:00<?, ?it/s]"
      ]
     },
     "metadata": {},
     "output_type": "display_data"
    },
    {
     "name": "stdout",
     "output_type": "stream",
     "text": [
      "starting CV for C=10, eps=0.0001, tol=0.0001\n"
     ]
    },
    {
     "data": {
      "application/vnd.jupyter.widget-view+json": {
       "model_id": "35eb0ee9bd024093b18fdf27d140010f",
       "version_major": 2,
       "version_minor": 0
      },
      "text/plain": [
       "CV:   0%|          | 0/5 [00:00<?, ?it/s]"
      ]
     },
     "metadata": {},
     "output_type": "display_data"
    },
    {
     "name": "stdout",
     "output_type": "stream",
     "text": [
      "starting CV for C=25, eps=0.01, tol=0.01\n"
     ]
    },
    {
     "data": {
      "application/vnd.jupyter.widget-view+json": {
       "model_id": "0aa8e576a5c14b60b146718b7e3bc98f",
       "version_major": 2,
       "version_minor": 0
      },
      "text/plain": [
       "CV:   0%|          | 0/5 [00:00<?, ?it/s]"
      ]
     },
     "metadata": {},
     "output_type": "display_data"
    },
    {
     "name": "stdout",
     "output_type": "stream",
     "text": [
      "starting CV for C=25, eps=0.01, tol=0.001\n"
     ]
    },
    {
     "data": {
      "application/vnd.jupyter.widget-view+json": {
       "model_id": "8cb41663970a4eeaa985425416087dc3",
       "version_major": 2,
       "version_minor": 0
      },
      "text/plain": [
       "CV:   0%|          | 0/5 [00:00<?, ?it/s]"
      ]
     },
     "metadata": {},
     "output_type": "display_data"
    },
    {
     "name": "stdout",
     "output_type": "stream",
     "text": [
      "starting CV for C=25, eps=0.01, tol=0.0001\n"
     ]
    },
    {
     "data": {
      "application/vnd.jupyter.widget-view+json": {
       "model_id": "b2f2ee533aff4a0b9b1b8d9826fad236",
       "version_major": 2,
       "version_minor": 0
      },
      "text/plain": [
       "CV:   0%|          | 0/5 [00:00<?, ?it/s]"
      ]
     },
     "metadata": {},
     "output_type": "display_data"
    },
    {
     "name": "stdout",
     "output_type": "stream",
     "text": [
      "starting CV for C=25, eps=0.001, tol=0.01\n"
     ]
    },
    {
     "data": {
      "application/vnd.jupyter.widget-view+json": {
       "model_id": "24fc6d17266b4b48ab8f8fa7f4eafd29",
       "version_major": 2,
       "version_minor": 0
      },
      "text/plain": [
       "CV:   0%|          | 0/5 [00:00<?, ?it/s]"
      ]
     },
     "metadata": {},
     "output_type": "display_data"
    },
    {
     "name": "stdout",
     "output_type": "stream",
     "text": [
      "starting CV for C=25, eps=0.001, tol=0.001\n"
     ]
    },
    {
     "data": {
      "application/vnd.jupyter.widget-view+json": {
       "model_id": "8474e46f59ee4ce3b4b45db743fb32ad",
       "version_major": 2,
       "version_minor": 0
      },
      "text/plain": [
       "CV:   0%|          | 0/5 [00:00<?, ?it/s]"
      ]
     },
     "metadata": {},
     "output_type": "display_data"
    },
    {
     "name": "stdout",
     "output_type": "stream",
     "text": [
      "starting CV for C=25, eps=0.001, tol=0.0001\n"
     ]
    },
    {
     "data": {
      "application/vnd.jupyter.widget-view+json": {
       "model_id": "149146a208ca43f0b424b05d19a2448d",
       "version_major": 2,
       "version_minor": 0
      },
      "text/plain": [
       "CV:   0%|          | 0/5 [00:00<?, ?it/s]"
      ]
     },
     "metadata": {},
     "output_type": "display_data"
    },
    {
     "name": "stdout",
     "output_type": "stream",
     "text": [
      "starting CV for C=25, eps=0.0001, tol=0.01\n"
     ]
    },
    {
     "data": {
      "application/vnd.jupyter.widget-view+json": {
       "model_id": "721bb4145445496a97d6012f454bff2f",
       "version_major": 2,
       "version_minor": 0
      },
      "text/plain": [
       "CV:   0%|          | 0/5 [00:00<?, ?it/s]"
      ]
     },
     "metadata": {},
     "output_type": "display_data"
    },
    {
     "name": "stdout",
     "output_type": "stream",
     "text": [
      "starting CV for C=25, eps=0.0001, tol=0.001\n"
     ]
    },
    {
     "data": {
      "application/vnd.jupyter.widget-view+json": {
       "model_id": "6feabd7f51664580b1a61c9b6a5d5176",
       "version_major": 2,
       "version_minor": 0
      },
      "text/plain": [
       "CV:   0%|          | 0/5 [00:00<?, ?it/s]"
      ]
     },
     "metadata": {},
     "output_type": "display_data"
    },
    {
     "name": "stdout",
     "output_type": "stream",
     "text": [
      "starting CV for C=25, eps=0.0001, tol=0.0001\n"
     ]
    },
    {
     "data": {
      "application/vnd.jupyter.widget-view+json": {
       "model_id": "3fcad736e1a14680a28aa60fa541f08a",
       "version_major": 2,
       "version_minor": 0
      },
      "text/plain": [
       "CV:   0%|          | 0/5 [00:00<?, ?it/s]"
      ]
     },
     "metadata": {},
     "output_type": "display_data"
    },
    {
     "name": "stdout",
     "output_type": "stream",
     "text": [
      "best (lowest) mse:  0.004577325331047178  with σ= 0.00023696231581165792\n",
      "with params C=2.5, ϵ=0.01, tol=0.001\n"
     ]
    }
   ],
   "source": [
    "param_grid = {\n",
    "    'C': [0.1, 0.25, 1, 2.5, 10, 25],\n",
    "    'epsilon': [1e-2, 1e-3, 1e-4],\n",
    "    'tol': [1e-2, 1e-3, 1e-4]\n",
    "}\n",
    "\n",
    "param_nested_list = [param_grid[key] for key in param_grid.keys()]\n",
    "param_list = list(itertools.product(*param_nested_list))\n",
    "\n",
    "def k_fold_split(X, k=5):\n",
    "    # Calculate the size of each fold\n",
    "    fold_size = len(X) // k\n",
    "\n",
    "    # Initialize a list to store the folds\n",
    "    folds = []\n",
    "\n",
    "    # Create each fold\n",
    "    for i in range(k):\n",
    "        # Calculate the start and end indices of the current fold\n",
    "        start = i * fold_size\n",
    "        end = (i + 1) * fold_size if i < k - 1 else len(X)\n",
    "\n",
    "        # Get the fold data\n",
    "        fold = X[start:end]\n",
    "\n",
    "        # Add the fold to the list of folds\n",
    "        folds.append(fold)\n",
    "\n",
    "    return folds\n",
    "    \n",
    "def k_fold_cv(cv=5, C=1, epsilon=1e-3, tol=1e-4):\n",
    "    print('starting CV for C={}, eps={}, tol={}'.format(C, epsilon, tol))\n",
    "    folds_X = k_fold_split(X_train_norm, k=cv)\n",
    "    folds_y = k_fold_split(y_train_norm, k=cv)\n",
    "    num_outputs = len(y_train_norm[0])\n",
    "    mse_list = np.zeros((cv, num_outputs))\n",
    "    \n",
    "    for i in trange(cv, desc='CV'):\n",
    "        idx_list = list(range(cv))\n",
    "        del idx_list[i] # Delete current validation fold from training list\n",
    "        \n",
    "        X_train_cv = np.concatenate([folds_X[k] for k in idx_list], axis=0)\n",
    "        y_train_cv = np.concatenate([folds_y[k] for k in idx_list], axis=0)\n",
    "        X_val_cv = folds_X[i]\n",
    "        y_val_cv = folds_y[i]\n",
    "        \n",
    "        svrs = []\n",
    "        for j in range(num_outputs):\n",
    "            svrs.append(SVR(C=C, epsilon=epsilon, tol=tol))\n",
    "            svrs[j].fit(X_train_cv, y_train_cv[:, j])\n",
    "            y_train_predict = svrs[j].predict(X_train_cv)\n",
    "            y_val_predict = svrs[j].predict(X_val_cv)\n",
    "            mse_list[i, j] = mean_squared_error(y_val_cv[:, j], y_val_predict)\n",
    "            X_train_cv = np.concatenate([X_train_cv, y_train_predict.reshape(-1, 1)], axis=1)\n",
    "            X_val_cv = np.concatenate([X_val_cv, y_val_predict.reshape(-1, 1)], axis=1)\n",
    "        \n",
    "    mse_list_energy_averaged = np.mean(mse_list, axis=1)\n",
    "    mean_cv_mse = np.mean(mse_list_energy_averaged)\n",
    "    std_cv_mse = np.std(mse_list_energy_averaged)\n",
    "    return [mean_cv_mse, std_cv_mse]\n",
    "\n",
    "def GridSearchCV(param_list, cv=5):\n",
    "    mse_list = np.zeros(len(param_list))\n",
    "    std_list = np.zeros(len(param_list))\n",
    "    for k, param in enumerate(param_list):\n",
    "        C = param[0]\n",
    "        epsilon = param[1]\n",
    "        tol = param[2]\n",
    "        mse, std = k_fold_cv(cv=cv, C=C, epsilon=epsilon, tol=tol)\n",
    "        mse_list[k] = mse\n",
    "        std_list[k] = std\n",
    "    best_idx = np.argmin(mse_list)\n",
    "    print('best (lowest) mse: ', mse_list[best_idx], ' with σ=', std_list[best_idx])\n",
    "    print('with params C={}, ϵ={}, tol={}'.format(param_list[int(best_idx)][0], param_list[int(best_idx)][1], param_list[int(best_idx)][2]))\n",
    "    return pd.DataFrame({'Params (C, ϵ, tol)':param_list, 'Mean Squared Error':mse_list, 'Standard Deviation':std_list})\n",
    "        \n",
    "        \n",
    "output_df = GridSearchCV(param_list)"
   ]
  },
  {
   "cell_type": "code",
   "execution_count": 6,
   "metadata": {},
   "outputs": [
    {
     "data": {
      "text/html": [
       "<div>\n",
       "<style scoped>\n",
       "    .dataframe tbody tr th:only-of-type {\n",
       "        vertical-align: middle;\n",
       "    }\n",
       "\n",
       "    .dataframe tbody tr th {\n",
       "        vertical-align: top;\n",
       "    }\n",
       "\n",
       "    .dataframe thead th {\n",
       "        text-align: right;\n",
       "    }\n",
       "</style>\n",
       "<table border=\"1\" class=\"dataframe\">\n",
       "  <thead>\n",
       "    <tr style=\"text-align: right;\">\n",
       "      <th></th>\n",
       "      <th>Params (C, ϵ, tol)</th>\n",
       "      <th>Mean Squared Error</th>\n",
       "      <th>Standard Deviation</th>\n",
       "    </tr>\n",
       "  </thead>\n",
       "  <tbody>\n",
       "    <tr>\n",
       "      <th>0</th>\n",
       "      <td>[0.1, 0.01, 0.01]</td>\n",
       "      <td>0.005917</td>\n",
       "      <td>0.000303</td>\n",
       "    </tr>\n",
       "    <tr>\n",
       "      <th>1</th>\n",
       "      <td>[0.1, 0.01, 0.001]</td>\n",
       "      <td>0.005910</td>\n",
       "      <td>0.000302</td>\n",
       "    </tr>\n",
       "    <tr>\n",
       "      <th>2</th>\n",
       "      <td>[0.1, 0.01, 0.0001]</td>\n",
       "      <td>0.005910</td>\n",
       "      <td>0.000302</td>\n",
       "    </tr>\n",
       "    <tr>\n",
       "      <th>3</th>\n",
       "      <td>[0.1, 0.001, 0.01]</td>\n",
       "      <td>0.005882</td>\n",
       "      <td>0.000295</td>\n",
       "    </tr>\n",
       "    <tr>\n",
       "      <th>4</th>\n",
       "      <td>[0.1, 0.001, 0.001]</td>\n",
       "      <td>0.005885</td>\n",
       "      <td>0.000295</td>\n",
       "    </tr>\n",
       "    <tr>\n",
       "      <th>5</th>\n",
       "      <td>[0.1, 0.001, 0.0001]</td>\n",
       "      <td>0.005886</td>\n",
       "      <td>0.000295</td>\n",
       "    </tr>\n",
       "    <tr>\n",
       "      <th>6</th>\n",
       "      <td>[0.1, 0.0001, 0.01]</td>\n",
       "      <td>0.005891</td>\n",
       "      <td>0.000293</td>\n",
       "    </tr>\n",
       "    <tr>\n",
       "      <th>7</th>\n",
       "      <td>[0.1, 0.0001, 0.001]</td>\n",
       "      <td>0.005887</td>\n",
       "      <td>0.000297</td>\n",
       "    </tr>\n",
       "    <tr>\n",
       "      <th>8</th>\n",
       "      <td>[0.1, 0.0001, 0.0001]</td>\n",
       "      <td>0.005887</td>\n",
       "      <td>0.000297</td>\n",
       "    </tr>\n",
       "    <tr>\n",
       "      <th>9</th>\n",
       "      <td>[0.25, 0.01, 0.01]</td>\n",
       "      <td>0.005024</td>\n",
       "      <td>0.000239</td>\n",
       "    </tr>\n",
       "    <tr>\n",
       "      <th>10</th>\n",
       "      <td>[0.25, 0.01, 0.001]</td>\n",
       "      <td>0.005019</td>\n",
       "      <td>0.000241</td>\n",
       "    </tr>\n",
       "    <tr>\n",
       "      <th>11</th>\n",
       "      <td>[0.25, 0.01, 0.0001]</td>\n",
       "      <td>0.005018</td>\n",
       "      <td>0.000241</td>\n",
       "    </tr>\n",
       "    <tr>\n",
       "      <th>12</th>\n",
       "      <td>[0.25, 0.001, 0.01]</td>\n",
       "      <td>0.005019</td>\n",
       "      <td>0.000236</td>\n",
       "    </tr>\n",
       "    <tr>\n",
       "      <th>13</th>\n",
       "      <td>[0.25, 0.001, 0.001]</td>\n",
       "      <td>0.005020</td>\n",
       "      <td>0.000238</td>\n",
       "    </tr>\n",
       "    <tr>\n",
       "      <th>14</th>\n",
       "      <td>[0.25, 0.001, 0.0001]</td>\n",
       "      <td>0.005020</td>\n",
       "      <td>0.000238</td>\n",
       "    </tr>\n",
       "    <tr>\n",
       "      <th>15</th>\n",
       "      <td>[0.25, 0.0001, 0.01]</td>\n",
       "      <td>0.005027</td>\n",
       "      <td>0.000239</td>\n",
       "    </tr>\n",
       "    <tr>\n",
       "      <th>16</th>\n",
       "      <td>[0.25, 0.0001, 0.001]</td>\n",
       "      <td>0.005022</td>\n",
       "      <td>0.000239</td>\n",
       "    </tr>\n",
       "    <tr>\n",
       "      <th>17</th>\n",
       "      <td>[0.25, 0.0001, 0.0001]</td>\n",
       "      <td>0.005022</td>\n",
       "      <td>0.000239</td>\n",
       "    </tr>\n",
       "    <tr>\n",
       "      <th>18</th>\n",
       "      <td>[1.0, 0.01, 0.01]</td>\n",
       "      <td>0.004638</td>\n",
       "      <td>0.000235</td>\n",
       "    </tr>\n",
       "    <tr>\n",
       "      <th>19</th>\n",
       "      <td>[1.0, 0.01, 0.001]</td>\n",
       "      <td>0.004637</td>\n",
       "      <td>0.000236</td>\n",
       "    </tr>\n",
       "    <tr>\n",
       "      <th>20</th>\n",
       "      <td>[1.0, 0.01, 0.0001]</td>\n",
       "      <td>0.004637</td>\n",
       "      <td>0.000235</td>\n",
       "    </tr>\n",
       "    <tr>\n",
       "      <th>21</th>\n",
       "      <td>[1.0, 0.001, 0.01]</td>\n",
       "      <td>0.004654</td>\n",
       "      <td>0.000240</td>\n",
       "    </tr>\n",
       "    <tr>\n",
       "      <th>22</th>\n",
       "      <td>[1.0, 0.001, 0.001]</td>\n",
       "      <td>0.004650</td>\n",
       "      <td>0.000237</td>\n",
       "    </tr>\n",
       "    <tr>\n",
       "      <th>23</th>\n",
       "      <td>[1.0, 0.001, 0.0001]</td>\n",
       "      <td>0.004649</td>\n",
       "      <td>0.000237</td>\n",
       "    </tr>\n",
       "    <tr>\n",
       "      <th>24</th>\n",
       "      <td>[1.0, 0.0001, 0.01]</td>\n",
       "      <td>0.004653</td>\n",
       "      <td>0.000236</td>\n",
       "    </tr>\n",
       "    <tr>\n",
       "      <th>25</th>\n",
       "      <td>[1.0, 0.0001, 0.001]</td>\n",
       "      <td>0.004646</td>\n",
       "      <td>0.000235</td>\n",
       "    </tr>\n",
       "    <tr>\n",
       "      <th>26</th>\n",
       "      <td>[1.0, 0.0001, 0.0001]</td>\n",
       "      <td>0.004647</td>\n",
       "      <td>0.000235</td>\n",
       "    </tr>\n",
       "    <tr>\n",
       "      <th>27</th>\n",
       "      <td>[2.5, 0.01, 0.01]</td>\n",
       "      <td>0.004578</td>\n",
       "      <td>0.000238</td>\n",
       "    </tr>\n",
       "    <tr>\n",
       "      <th>28</th>\n",
       "      <td>[2.5, 0.01, 0.001]</td>\n",
       "      <td>0.004577</td>\n",
       "      <td>0.000237</td>\n",
       "    </tr>\n",
       "    <tr>\n",
       "      <th>29</th>\n",
       "      <td>[2.5, 0.01, 0.0001]</td>\n",
       "      <td>0.004577</td>\n",
       "      <td>0.000237</td>\n",
       "    </tr>\n",
       "    <tr>\n",
       "      <th>30</th>\n",
       "      <td>[2.5, 0.001, 0.01]</td>\n",
       "      <td>0.004594</td>\n",
       "      <td>0.000233</td>\n",
       "    </tr>\n",
       "    <tr>\n",
       "      <th>31</th>\n",
       "      <td>[2.5, 0.001, 0.001]</td>\n",
       "      <td>0.004594</td>\n",
       "      <td>0.000232</td>\n",
       "    </tr>\n",
       "    <tr>\n",
       "      <th>32</th>\n",
       "      <td>[2.5, 0.001, 0.0001]</td>\n",
       "      <td>0.004593</td>\n",
       "      <td>0.000232</td>\n",
       "    </tr>\n",
       "    <tr>\n",
       "      <th>33</th>\n",
       "      <td>[2.5, 0.0001, 0.01]</td>\n",
       "      <td>0.004596</td>\n",
       "      <td>0.000231</td>\n",
       "    </tr>\n",
       "    <tr>\n",
       "      <th>34</th>\n",
       "      <td>[2.5, 0.0001, 0.001]</td>\n",
       "      <td>0.004596</td>\n",
       "      <td>0.000233</td>\n",
       "    </tr>\n",
       "    <tr>\n",
       "      <th>35</th>\n",
       "      <td>[2.5, 0.0001, 0.0001]</td>\n",
       "      <td>0.004596</td>\n",
       "      <td>0.000234</td>\n",
       "    </tr>\n",
       "    <tr>\n",
       "      <th>36</th>\n",
       "      <td>[10.0, 0.01, 0.01]</td>\n",
       "      <td>0.004592</td>\n",
       "      <td>0.000236</td>\n",
       "    </tr>\n",
       "    <tr>\n",
       "      <th>37</th>\n",
       "      <td>[10.0, 0.01, 0.001]</td>\n",
       "      <td>0.004592</td>\n",
       "      <td>0.000238</td>\n",
       "    </tr>\n",
       "    <tr>\n",
       "      <th>38</th>\n",
       "      <td>[10.0, 0.01, 0.0001]</td>\n",
       "      <td>0.004592</td>\n",
       "      <td>0.000239</td>\n",
       "    </tr>\n",
       "    <tr>\n",
       "      <th>39</th>\n",
       "      <td>[10.0, 0.001, 0.01]</td>\n",
       "      <td>0.004614</td>\n",
       "      <td>0.000238</td>\n",
       "    </tr>\n",
       "    <tr>\n",
       "      <th>40</th>\n",
       "      <td>[10.0, 0.001, 0.001]</td>\n",
       "      <td>0.004610</td>\n",
       "      <td>0.000240</td>\n",
       "    </tr>\n",
       "    <tr>\n",
       "      <th>41</th>\n",
       "      <td>[10.0, 0.001, 0.0001]</td>\n",
       "      <td>0.004610</td>\n",
       "      <td>0.000241</td>\n",
       "    </tr>\n",
       "    <tr>\n",
       "      <th>42</th>\n",
       "      <td>[10.0, 0.0001, 0.01]</td>\n",
       "      <td>0.004617</td>\n",
       "      <td>0.000239</td>\n",
       "    </tr>\n",
       "    <tr>\n",
       "      <th>43</th>\n",
       "      <td>[10.0, 0.0001, 0.001]</td>\n",
       "      <td>0.004615</td>\n",
       "      <td>0.000242</td>\n",
       "    </tr>\n",
       "    <tr>\n",
       "      <th>44</th>\n",
       "      <td>[10.0, 0.0001, 0.0001]</td>\n",
       "      <td>0.004614</td>\n",
       "      <td>0.000242</td>\n",
       "    </tr>\n",
       "    <tr>\n",
       "      <th>45</th>\n",
       "      <td>[25.0, 0.01, 0.01]</td>\n",
       "      <td>0.004645</td>\n",
       "      <td>0.000236</td>\n",
       "    </tr>\n",
       "    <tr>\n",
       "      <th>46</th>\n",
       "      <td>[25.0, 0.01, 0.001]</td>\n",
       "      <td>0.004645</td>\n",
       "      <td>0.000240</td>\n",
       "    </tr>\n",
       "    <tr>\n",
       "      <th>47</th>\n",
       "      <td>[25.0, 0.01, 0.0001]</td>\n",
       "      <td>0.004644</td>\n",
       "      <td>0.000241</td>\n",
       "    </tr>\n",
       "    <tr>\n",
       "      <th>48</th>\n",
       "      <td>[25.0, 0.001, 0.01]</td>\n",
       "      <td>0.004663</td>\n",
       "      <td>0.000238</td>\n",
       "    </tr>\n",
       "    <tr>\n",
       "      <th>49</th>\n",
       "      <td>[25.0, 0.001, 0.001]</td>\n",
       "      <td>0.004658</td>\n",
       "      <td>0.000232</td>\n",
       "    </tr>\n",
       "    <tr>\n",
       "      <th>50</th>\n",
       "      <td>[25.0, 0.001, 0.0001]</td>\n",
       "      <td>0.004658</td>\n",
       "      <td>0.000233</td>\n",
       "    </tr>\n",
       "    <tr>\n",
       "      <th>51</th>\n",
       "      <td>[25.0, 0.0001, 0.01]</td>\n",
       "      <td>0.004664</td>\n",
       "      <td>0.000233</td>\n",
       "    </tr>\n",
       "    <tr>\n",
       "      <th>52</th>\n",
       "      <td>[25.0, 0.0001, 0.001]</td>\n",
       "      <td>0.004659</td>\n",
       "      <td>0.000233</td>\n",
       "    </tr>\n",
       "    <tr>\n",
       "      <th>53</th>\n",
       "      <td>[25.0, 0.0001, 0.0001]</td>\n",
       "      <td>0.004659</td>\n",
       "      <td>0.000232</td>\n",
       "    </tr>\n",
       "  </tbody>\n",
       "</table>\n",
       "</div>"
      ],
      "text/plain": [
       "        Params (C, ϵ, tol)  Mean Squared Error  Standard Deviation\n",
       "0        [0.1, 0.01, 0.01]            0.005917            0.000303\n",
       "1       [0.1, 0.01, 0.001]            0.005910            0.000302\n",
       "2      [0.1, 0.01, 0.0001]            0.005910            0.000302\n",
       "3       [0.1, 0.001, 0.01]            0.005882            0.000295\n",
       "4      [0.1, 0.001, 0.001]            0.005885            0.000295\n",
       "5     [0.1, 0.001, 0.0001]            0.005886            0.000295\n",
       "6      [0.1, 0.0001, 0.01]            0.005891            0.000293\n",
       "7     [0.1, 0.0001, 0.001]            0.005887            0.000297\n",
       "8    [0.1, 0.0001, 0.0001]            0.005887            0.000297\n",
       "9       [0.25, 0.01, 0.01]            0.005024            0.000239\n",
       "10     [0.25, 0.01, 0.001]            0.005019            0.000241\n",
       "11    [0.25, 0.01, 0.0001]            0.005018            0.000241\n",
       "12     [0.25, 0.001, 0.01]            0.005019            0.000236\n",
       "13    [0.25, 0.001, 0.001]            0.005020            0.000238\n",
       "14   [0.25, 0.001, 0.0001]            0.005020            0.000238\n",
       "15    [0.25, 0.0001, 0.01]            0.005027            0.000239\n",
       "16   [0.25, 0.0001, 0.001]            0.005022            0.000239\n",
       "17  [0.25, 0.0001, 0.0001]            0.005022            0.000239\n",
       "18       [1.0, 0.01, 0.01]            0.004638            0.000235\n",
       "19      [1.0, 0.01, 0.001]            0.004637            0.000236\n",
       "20     [1.0, 0.01, 0.0001]            0.004637            0.000235\n",
       "21      [1.0, 0.001, 0.01]            0.004654            0.000240\n",
       "22     [1.0, 0.001, 0.001]            0.004650            0.000237\n",
       "23    [1.0, 0.001, 0.0001]            0.004649            0.000237\n",
       "24     [1.0, 0.0001, 0.01]            0.004653            0.000236\n",
       "25    [1.0, 0.0001, 0.001]            0.004646            0.000235\n",
       "26   [1.0, 0.0001, 0.0001]            0.004647            0.000235\n",
       "27       [2.5, 0.01, 0.01]            0.004578            0.000238\n",
       "28      [2.5, 0.01, 0.001]            0.004577            0.000237\n",
       "29     [2.5, 0.01, 0.0001]            0.004577            0.000237\n",
       "30      [2.5, 0.001, 0.01]            0.004594            0.000233\n",
       "31     [2.5, 0.001, 0.001]            0.004594            0.000232\n",
       "32    [2.5, 0.001, 0.0001]            0.004593            0.000232\n",
       "33     [2.5, 0.0001, 0.01]            0.004596            0.000231\n",
       "34    [2.5, 0.0001, 0.001]            0.004596            0.000233\n",
       "35   [2.5, 0.0001, 0.0001]            0.004596            0.000234\n",
       "36      [10.0, 0.01, 0.01]            0.004592            0.000236\n",
       "37     [10.0, 0.01, 0.001]            0.004592            0.000238\n",
       "38    [10.0, 0.01, 0.0001]            0.004592            0.000239\n",
       "39     [10.0, 0.001, 0.01]            0.004614            0.000238\n",
       "40    [10.0, 0.001, 0.001]            0.004610            0.000240\n",
       "41   [10.0, 0.001, 0.0001]            0.004610            0.000241\n",
       "42    [10.0, 0.0001, 0.01]            0.004617            0.000239\n",
       "43   [10.0, 0.0001, 0.001]            0.004615            0.000242\n",
       "44  [10.0, 0.0001, 0.0001]            0.004614            0.000242\n",
       "45      [25.0, 0.01, 0.01]            0.004645            0.000236\n",
       "46     [25.0, 0.01, 0.001]            0.004645            0.000240\n",
       "47    [25.0, 0.01, 0.0001]            0.004644            0.000241\n",
       "48     [25.0, 0.001, 0.01]            0.004663            0.000238\n",
       "49    [25.0, 0.001, 0.001]            0.004658            0.000232\n",
       "50   [25.0, 0.001, 0.0001]            0.004658            0.000233\n",
       "51    [25.0, 0.0001, 0.01]            0.004664            0.000233\n",
       "52   [25.0, 0.0001, 0.001]            0.004659            0.000233\n",
       "53  [25.0, 0.0001, 0.0001]            0.004659            0.000232"
      ]
     },
     "metadata": {},
     "output_type": "display_data"
    }
   ],
   "source": [
    "display(output_df)"
   ]
  },
  {
   "cell_type": "code",
   "execution_count": 7,
   "metadata": {},
   "outputs": [],
   "source": [
    "output_df.to_pandas().to_csv('svr_cv_results/grid_search.csv', index=False)"
   ]
  }
 ],
 "metadata": {
  "kernelspec": {
   "display_name": "rapids-22.10 [rapids-22.10]",
   "language": "python",
   "name": "conda_rapids-22.10"
  },
  "language_info": {
   "codemirror_mode": {
    "name": "ipython",
    "version": 3
   },
   "file_extension": ".py",
   "mimetype": "text/x-python",
   "name": "python",
   "nbconvert_exporter": "python",
   "pygments_lexer": "ipython3",
   "version": "3.9.15"
  }
 },
 "nbformat": 4,
 "nbformat_minor": 4
}
